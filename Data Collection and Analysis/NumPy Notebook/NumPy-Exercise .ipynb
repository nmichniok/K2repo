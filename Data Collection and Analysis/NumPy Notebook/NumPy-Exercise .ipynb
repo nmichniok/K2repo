{
 "cells": [
  {
   "cell_type": "markdown",
   "metadata": {},
   "source": [
    "# NumPy Exercise\n",
    "NumPy is the fundamental package for scientific computing in Python. It is a Python library that provides a multidimensional array object, various derived objects (such as masked arrays and matrices), and an assortment of routines for fast operations on arrays, including mathematical, logical, shape manipulation, sorting, selecting, I/O, discrete Fourier transforms, basic linear algebra, basic statistical operations, random simulation and much more.\n",
    "\n",
    "At the core of the NumPy package, is the ndarray object. This encapsulates n-dimensional arrays of homogeneous data types, with many operations being performed in compiled code for performance. There are several important differences between NumPy arrays and the standard Python sequences:\n",
    "\n",
    "- NumPy arrays have a fixed size at creation, unlike Python lists (which can grow dynamically). Changing the size of an ndarray will create a new array and delete the original.\n",
    "- The elements in a NumPy array are all required to be of the same data type, and thus will be the same size in memory. The exception: one can have arrays of (Python, including NumPy) objects, thereby allowing for arrays of different sized elements.\n",
    "- NumPy arrays facilitate advanced mathematical and other types of operations on large numbers of data. Typically, such operations are executed more efficiently and with less code than is possible using Python’s built-in sequences.\n",
    "- A growing plethora of scientific and mathematical Python-based packages are using NumPy arrays; though these typically support Python-sequence input, they convert such input to NumPy arrays prior to processing, and they often output NumPy arrays. In other words, in order to efficiently use much (perhaps even most) of today’s scientific/mathematical Python-based software, just knowing how to use Python’s built-in sequence types is insufficient - one also needs to know how to use NumPy arrays.\n",
    "\n",
    "Using only NumPy, perform the following.\n",
    "\n",
    "1. Create an array of the form $b = \\begin{bmatrix} 1 \\\\ 2 \\end{bmatrix}$\n",
    "1. Create a 2x2 array of the form $X = \\begin{bmatrix} 1 & 2 \\\\ 3 & 4 \\end{bmatrix}$\n",
    "1. Multiply the two arrays element wise, then using matrix multiplication, and finally the inner product of $b \\bullet b$.\n",
    "1. For each of your results in part (3), print the shape and data type.\n",
    "1. Reshape (or flatten), the array $X$ such that it consists of only 1 row.\n",
    "1. Create an array of the integers 1 to 10, inclusive, setting the datatype to float.\n",
    "1. Create a 10x10 identity matrix using the built in numpy function.\n",
    "1. Create a 10x10 identity matrix using a for loop.\n",
    "1. Generate a set of random data, $X$, drawn from a normal distribution, consisting of 9 columns of 100 rows each, then attach a column of all ones, resulting in a 100x10 matrix for $X$.  Next generate a random array $\\beta$, drawn from a uniform distribution, of length 10.  Also make an array, $\\epsilon$ of length 100, drawn from a normal distribution.  Finally, compute a vector $\\vec{y}$ such that $\\vec{y} = X\\beta + \\epsilon$.  Be sure to set the random seed to 0 before drawing any random numbers.  All random numbers should be on the interval [0, 1).\n",
    "1. Using the vector $\\vec{y}$ computed in part 9, create a vector $\\vec{c}$ containing the labels \"positive\" or \"negative\" for each value in $\\vec{y}$, treating 0 as positive.  **Bonus:** Do it with a one-liner.\n",
    "1. Using the classes generated in part 10, separate the matrix X into two smaller matricies, $X_p$, $X_n$, containing only rows which map to positive or negative values respectively.\n",
    "1. Generate a meshgrid on the interval [0, 1], of shape 100x100.  Then compute the Euclidean Distance given by $d = \\sqrt{x^2 + y^2}$ from the origin for each unit, $(x_n, y_n)$, in the grid.  **Bonus:** Do it with a one-liner.\n",
    "1. Generate a set of 100 values, $p$,  on the interval $[0, 2\\pi]$ and two vectors, $\\vec{x}, \\vec{y}$ such that $\\vec{x} = cos(p)$ and $\\vec{y} = sin(p)$.  Then compute the vector $\\vec{r} = \\sqrt{x^2 + y^2}$.  Comment on your results.\n",
    "1. Generate two lists, `a`, `b`, consisting of 10 randomly drawn values from a normal and uniform distribution respectively.  Compute the mean and median of each.\n",
    "1. Using `a` from part 14, create a new list `c` by calling `a = c`.  Now change the shape of `c`.  Comment on your results.\n",
    "1. How would you solve the problem that appeared in part 15?"
   ]
  },
  {
   "cell_type": "code",
   "execution_count": 2,
   "metadata": {
    "collapsed": true
   },
   "outputs": [],
   "source": [
    "import numpy as np"
   ]
  },
  {
   "cell_type": "code",
   "execution_count": 3,
   "metadata": {},
   "outputs": [
    {
     "name": "stdout",
     "output_type": "stream",
     "text": [
      "[1 2]\n"
     ]
    }
   ],
   "source": [
    "#1\n",
    "b = np.array([1,2])\n",
    "print(b)"
   ]
  },
  {
   "cell_type": "code",
   "execution_count": 4,
   "metadata": {},
   "outputs": [
    {
     "name": "stdout",
     "output_type": "stream",
     "text": [
      "[[1 2]\n",
      " [3 4]]\n"
     ]
    }
   ],
   "source": [
    "#2\n",
    "X = np.array([[1,2],[3,4]])\n",
    "print(X)"
   ]
  },
  {
   "cell_type": "code",
   "execution_count": 7,
   "metadata": {},
   "outputs": [
    {
     "name": "stdout",
     "output_type": "stream",
     "text": [
      "Element Wise: \n",
      " [[1 4]\n",
      " [3 8]]\n",
      "Matrix Multiplication:  [ 7 10]\n",
      "Inner Product:  5\n"
     ]
    }
   ],
   "source": [
    "#3\n",
    "element_wise = b * X\n",
    "print('Element Wise: \\n', element_wise)\n",
    "matrix_mult = np.matmul(b, X)\n",
    "print('Matrix Multiplication: ', matrix_mult)\n",
    "inner = np.inner(b, b)\n",
    "print('Inner Product: ', inner)"
   ]
  },
  {
   "cell_type": "code",
   "execution_count": 8,
   "metadata": {},
   "outputs": [
    {
     "name": "stdout",
     "output_type": "stream",
     "text": [
      "((2, 2), dtype('int64'))\n",
      "((2,), dtype('int64'))\n",
      "((), dtype('int64'))\n"
     ]
    }
   ],
   "source": [
    "#4\n",
    "print((element_wise.shape, element_wise.dtype))\n",
    "print((matrix_mult.shape, matrix_mult.dtype))\n",
    "print((inner.shape, inner.dtype))"
   ]
  },
  {
   "cell_type": "code",
   "execution_count": 9,
   "metadata": {},
   "outputs": [
    {
     "data": {
      "text/plain": [
       "array([[1, 2, 3, 4]])"
      ]
     },
     "execution_count": 9,
     "metadata": {},
     "output_type": "execute_result"
    }
   ],
   "source": [
    "#5\n",
    "X.reshape(1,4)"
   ]
  },
  {
   "cell_type": "code",
   "execution_count": 11,
   "metadata": {},
   "outputs": [
    {
     "name": "stdout",
     "output_type": "stream",
     "text": [
      "[  1.   2.   3.   4.   5.   6.   7.   8.   9.  10.]\n"
     ]
    }
   ],
   "source": [
    "#6\n",
    "a = np.array(np.arange(1,11), dtype='float')\n",
    "print(a)"
   ]
  },
  {
   "cell_type": "code",
   "execution_count": 12,
   "metadata": {},
   "outputs": [
    {
     "name": "stdout",
     "output_type": "stream",
     "text": [
      "[[ 1.  0.  0.  0.  0.  0.  0.  0.  0.  0.]\n",
      " [ 0.  1.  0.  0.  0.  0.  0.  0.  0.  0.]\n",
      " [ 0.  0.  1.  0.  0.  0.  0.  0.  0.  0.]\n",
      " [ 0.  0.  0.  1.  0.  0.  0.  0.  0.  0.]\n",
      " [ 0.  0.  0.  0.  1.  0.  0.  0.  0.  0.]\n",
      " [ 0.  0.  0.  0.  0.  1.  0.  0.  0.  0.]\n",
      " [ 0.  0.  0.  0.  0.  0.  1.  0.  0.  0.]\n",
      " [ 0.  0.  0.  0.  0.  0.  0.  1.  0.  0.]\n",
      " [ 0.  0.  0.  0.  0.  0.  0.  0.  1.  0.]\n",
      " [ 0.  0.  0.  0.  0.  0.  0.  0.  0.  1.]]\n"
     ]
    }
   ],
   "source": [
    "#7\n",
    "print(np.identity(10))"
   ]
  },
  {
   "cell_type": "code",
   "execution_count": 16,
   "metadata": {},
   "outputs": [
    {
     "data": {
      "text/plain": [
       "[[1, 0, 0, 0, 0, 0, 0, 0, 0, 0],\n",
       " [0, 1, 0, 0, 0, 0, 0, 0, 0, 0],\n",
       " [0, 0, 1, 0, 0, 0, 0, 0, 0, 0],\n",
       " [0, 0, 0, 1, 0, 0, 0, 0, 0, 0],\n",
       " [0, 0, 0, 0, 1, 0, 0, 0, 0, 0],\n",
       " [0, 0, 0, 0, 0, 1, 0, 0, 0, 0],\n",
       " [0, 0, 0, 0, 0, 0, 1, 0, 0, 0],\n",
       " [0, 0, 0, 0, 0, 0, 0, 1, 0, 0],\n",
       " [0, 0, 0, 0, 0, 0, 0, 0, 1, 0],\n",
       " [0, 0, 0, 0, 0, 0, 0, 0, 0, 1]]"
      ]
     },
     "execution_count": 16,
     "metadata": {},
     "output_type": "execute_result"
    }
   ],
   "source": [
    "#8\n",
    "I = []\n",
    "for i in np.arange(10):\n",
    "    row = []\n",
    "    for j in np.arange(10):\n",
    "        if i == j:\n",
    "            row.append(1)\n",
    "        else:\n",
    "            row.append(0)\n",
    "    I.append(row)\n",
    "\n",
    "I  \n",
    "            "
   ]
  },
  {
   "cell_type": "code",
   "execution_count": 17,
   "metadata": {
    "collapsed": true
   },
   "outputs": [],
   "source": [
    "#9\n",
    "np.random.seed(0)\n",
    "\n",
    "X = np.concatenate((np.ones((100, 1)), np.random.rand(100, 9)), axis = 1)\n",
    "b = np.random.rand(10)\n",
    "e = np.random.rand(100)\n",
    "\n",
    "y = np.matmul(X, b) + e\n"
   ]
  },
  {
   "cell_type": "code",
   "execution_count": 18,
   "metadata": {
    "collapsed": true
   },
   "outputs": [],
   "source": [
    "#10\n",
    "c = []\n",
    "for val in y:\n",
    "    if val >= 0:\n",
    "        c.append('positive')\n",
    "    else:\n",
    "        c.append('negative')\n",
    "\n",
    "#one-line\n",
    "c = ['positive' if val >= 0 else 'negative' for val in y]\n",
    "            "
   ]
  },
  {
   "cell_type": "code",
   "execution_count": 19,
   "metadata": {
    "collapsed": true
   },
   "outputs": [],
   "source": [
    "#11\n",
    "c = np.array(c)\n",
    "Xp = X[c == 'positive']\n",
    "Xn = X[c == 'negative']"
   ]
  },
  {
   "cell_type": "code",
   "execution_count": 23,
   "metadata": {},
   "outputs": [],
   "source": [
    "#12\n",
    "xx, yy = np.meshgrid(np.linspace(0, 1, 100), np.linspace(0, 1, 100))\n",
    "d = []\n",
    "for i in range(100):\n",
    "    for j in range(100):\n",
    "        d.append(np.sqrt(xx[i, j]**2 + yy[i, j]**2))\n",
    "        \n",
    "#one-line\n",
    "d = [np.sqrt(xx[i, j]**2 + yy[i, j]**2) for i in range(100) for j in range(100)]"
   ]
  },
  {
   "cell_type": "code",
   "execution_count": 24,
   "metadata": {},
   "outputs": [
    {
     "data": {
      "text/plain": [
       "array([ 1.,  1.,  1.,  1.,  1.,  1.,  1.,  1.,  1.,  1.,  1.,  1.,  1.,\n",
       "        1.,  1.,  1.,  1.,  1.,  1.,  1.,  1.,  1.,  1.,  1.,  1.,  1.,\n",
       "        1.,  1.,  1.,  1.,  1.,  1.,  1.,  1.,  1.,  1.,  1.,  1.,  1.,\n",
       "        1.,  1.,  1.,  1.,  1.,  1.,  1.,  1.,  1.,  1.,  1.,  1.,  1.,\n",
       "        1.,  1.,  1.,  1.,  1.,  1.,  1.,  1.,  1.,  1.,  1.,  1.,  1.,\n",
       "        1.,  1.,  1.,  1.,  1.,  1.,  1.,  1.,  1.,  1.,  1.,  1.,  1.,\n",
       "        1.,  1.,  1.,  1.,  1.,  1.,  1.,  1.,  1.,  1.,  1.,  1.,  1.,\n",
       "        1.,  1.,  1.,  1.,  1.,  1.,  1.,  1.,  1.])"
      ]
     },
     "execution_count": 24,
     "metadata": {},
     "output_type": "execute_result"
    }
   ],
   "source": [
    "#13\n",
    "p = np.linspace(0, 2*np.pi, 100)\n",
    "x = np.cos(p)\n",
    "y = np.sin(p)\n",
    "\n",
    "r = np.sqrt(x**2 + y**2)\n",
    "r\n"
   ]
  },
  {
   "cell_type": "code",
   "execution_count": 26,
   "metadata": {},
   "outputs": [
    {
     "name": "stdout",
     "output_type": "stream",
     "text": [
      "(-0.79391772898156399, -0.44079406222119699, 0.55101562908559365, 0.50376812536472415)\n"
     ]
    }
   ],
   "source": [
    "#14\n",
    "a = np.random.randn(10)\n",
    "b = np.random.rand(10)\n",
    "\n",
    "print((np.median(a), np.mean(a), np.median(b), np.mean(b)))"
   ]
  },
  {
   "cell_type": "code",
   "execution_count": 30,
   "metadata": {},
   "outputs": [
    {
     "data": {
      "text/plain": [
       "(5, 2)"
      ]
     },
     "execution_count": 30,
     "metadata": {},
     "output_type": "execute_result"
    }
   ],
   "source": [
    "#15\n",
    "c = a\n",
    "c - a\n",
    "\n",
    "c.shape = (5, 2)\n",
    "a.shape"
   ]
  },
  {
   "cell_type": "code",
   "execution_count": 32,
   "metadata": {},
   "outputs": [
    {
     "name": "stdout",
     "output_type": "stream",
     "text": [
      "((10,), (5, 2))\n"
     ]
    }
   ],
   "source": [
    "#16\n",
    "a = np.arange(10)\n",
    "c = a.copy()\n",
    "c.shape = (5, 2)\n",
    "print((a.shape, c.shape))"
   ]
  },
  {
   "cell_type": "code",
   "execution_count": null,
   "metadata": {
    "collapsed": true
   },
   "outputs": [],
   "source": []
  },
  {
   "cell_type": "code",
   "execution_count": null,
   "metadata": {
    "collapsed": true
   },
   "outputs": [],
   "source": []
  },
  {
   "cell_type": "code",
   "execution_count": null,
   "metadata": {
    "collapsed": true
   },
   "outputs": [],
   "source": []
  },
  {
   "cell_type": "code",
   "execution_count": null,
   "metadata": {
    "collapsed": true
   },
   "outputs": [],
   "source": []
  },
  {
   "cell_type": "code",
   "execution_count": null,
   "metadata": {
    "collapsed": true
   },
   "outputs": [],
   "source": []
  }
 ],
 "metadata": {
  "anaconda-cloud": {},
  "kernelspec": {
   "display_name": "Python 3",
   "language": "python",
   "name": "python3"
  },
  "language_info": {
   "codemirror_mode": {
    "name": "ipython",
    "version": 3
   },
   "file_extension": ".py",
   "mimetype": "text/x-python",
   "name": "python",
   "nbconvert_exporter": "python",
   "pygments_lexer": "ipython3",
   "version": "3.6.1"
  }
 },
 "nbformat": 4,
 "nbformat_minor": 2
}
