{
 "cells": [
  {
   "cell_type": "markdown",
   "metadata": {
    "collapsed": true
   },
   "source": [
    "# SQL Introduction\n",
    "## Setting up the environment\n",
    "In order to follow this exercise, you'll need SQLite3 installed.  Binaries for Windows, Linux, and Mac can all be obtained on their [webpage](https://www.sqlite.org/download.html).  \n",
    "\n",
    "If you're on windows, be sure to get both the precompiled binaries for your OS as well as the `sqlite-tools`.\n",
    "\n",
    "Once you have it installed, type `sqlite3` into your OS console.  If you see a prompt saying `sqlite>`, all is in order and you're ready to proceed.\n",
    "\n",
    "## Basics\n",
    "SQL, often pronounced \"see-quell\", stands for Structured Query Langauge and is the language used to query relational databases.  Although you may have never actually worked with a relational database, you are probably already very familiar with their structure and concepts, likely through working with spreadsheet programs like Excel.  To review, here are some of the basic ideas.\n",
    "- Data are organized into *tables*, like spreadsheets using the Excel analogy.\n",
    "- *Tables* consist of named *columns* and zero or more *rows*\n",
    "- *Columns* contain a data type (integer, float, string, etc...)\n",
    "- *Rows* may be indexed by a *primary key* which is a column, or a set of columns, used to uniquely identify each row."
   ]
  },
  {
   "cell_type": "markdown",
   "metadata": {},
   "source": [
    "## Import some data\n",
    "Before getting into writing queries, we first need to load some data.  We're going to use the `mtcars` dataset that is often used in R and Python examples.  If you need a copy of the .csv, it can be downloaded [here](https://vincentarelbundock.github.io/Rdatasets/datasets.html), and it may be a good idea to familiarize yourself with the data a bit before proceeding.  Also, be sure that all columns have a name.  Once you have the data, put it in the same directory as this notebook.  Now open up a command prompt in your OS, navigate to the directory containing the data, and run the command `sqlite3`.  You should now see a `sqlite3>` indicating that the server is running and ready for commands.  Now enter the following into the `sqlite3` console."
   ]
  },
  {
   "cell_type": "markdown",
   "metadata": {},
   "source": [
    "```\n",
    ".mode csv\n",
    ".import mtcars.csv mtcars\n",
    "```"
   ]
  },
  {
   "cell_type": "markdown",
   "metadata": {},
   "source": [
    "Note that this is **not** SQL.  This is just a SQLite command used to import data. The `.mode` command tells SQLite to prepare the read in a .csv, and the `.import mtcars.csv mtcars` tells it to create a table called `mtcars` from the file named `mtcars.csv`.  For a full list of SQLite commands, consult the documentation [here](https://www.sqlite.org/cli.html)."
   ]
  },
  {
   "cell_type": "markdown",
   "metadata": {},
   "source": [
    "## `SELECT`\n",
    "The first SQL command we're going to work with is `SELECT`.  You'll find pretty quickly that SQL really reads almost like an English sentence.  So intuitively, `SELECT` may specify the columns you want to select.  Give it a try by entering the following into the `sqlite3` console."
   ]
  },
  {
   "cell_type": "markdown",
   "metadata": {},
   "source": [
    "```SQL\n",
    "SELECT * FROM mtcars LIMIT 10;\n",
    "```"
   ]
  },
  {
   "cell_type": "markdown",
   "metadata": {},
   "source": [
    "```\n",
    "\"Mazda RX4\",21,6,160,110,3.9,2.62,16.46,0,1,4,4\n",
    "\"Mazda RX4 Wag\",21,6,160,110,3.9,2.875,17.02,0,1,4,4\n",
    "\"Datsun 710\",22.8,4,108,93,3.85,2.32,18.61,1,1,4,1\n",
    "\"Hornet 4 Drive\",21.4,6,258,110,3.08,3.215,19.44,1,0,3,1\n",
    "\"Hornet Sportabout\",18.7,8,360,175,3.15,3.44,17.02,0,0,3,2\n",
    "Valiant,18.1,6,225,105,2.76,3.46,20.22,1,0,3,1\n",
    "\"Duster 360\",14.3,8,360,245,3.21,3.57,15.84,0,0,3,4\n",
    "\"Merc 240D\",24.4,4,146.7,62,3.69,3.19,20,1,0,4,2\n",
    "\"Merc 230\",22.8,4,140.8,95,3.92,3.15,22.9,1,0,4,2\n",
    "\"Merc 280\",19.2,6,167.6,123,3.92,3.44,18.3,1,0,4,4\n",
    "```"
   ]
  },
  {
   "cell_type": "markdown",
   "metadata": {},
   "source": [
    "The `*` is the wildcard character and in this context it can be read as \"all\".  The `SELECT` clause is followed by `FROM` which specifies which table the preceding columns will be selected from.  Anything that comes after the `FROM` works to operate or \"filter\" on the resultant rows, in our case, limiting the number of rows returned.  So with that in mind, the above SQL statement reads \"select all (columns) from (table) mtcars limit(ed to) 10 (rows)\".  Also note that the `SQL` statement ended with a `;` which means \"end of command\".  Some `SQL` software require its use while others do not.  When using the `sqlite3` console, we must always terminate our statements with a `;`.\n",
    "\n",
    "However, it would be nice if we could see the column headings.  To do so with SQLite, we need to issue another command."
   ]
  },
  {
   "cell_type": "markdown",
   "metadata": {},
   "source": [
    "```\n",
    ".mode columns\n",
    ".headers on\n",
    "```"
   ]
  },
  {
   "cell_type": "markdown",
   "metadata": {},
   "source": [
    "And rerun the query."
   ]
  },
  {
   "cell_type": "markdown",
   "metadata": {},
   "source": [
    "```SQL\n",
    "SELECT * FROM mtcars LIMIT 10;\n",
    "```"
   ]
  },
  {
   "cell_type": "markdown",
   "metadata": {},
   "source": [
    "```\n",
    "name        mpg         cyl         disp        hp          drat        wt          qsec        vs          am          gear        carb      \n",
    "----------  ----------  ----------  ----------  ----------  ----------  ----------  ----------  ----------  ----------  ----------  ----------\n",
    "Mazda RX4   21          6           160         110         3.9         2.62        16.46       0           1           4           4         \n",
    "Mazda RX4   21          6           160         110         3.9         2.875       17.02       0           1           4           4         \n",
    "Datsun 710  22.8        4           108         93          3.85        2.32        18.61       1           1           4           1         \n",
    "Hornet 4 D  21.4        6           258         110         3.08        3.215       19.44       1           0           3           1         \n",
    "Hornet Spo  18.7        8           360         175         3.15        3.44        17.02       0           0           3           2         \n",
    "Valiant     18.1        6           225         105         2.76        3.46        20.22       1           0           3           1         \n",
    "Duster 360  14.3        8           360         245         3.21        3.57        15.84       0           0           3           4         \n",
    "Merc 240D   24.4        4           146.7       62          3.69        3.19        20          1           0           4           2         \n",
    "Merc 230    22.8        4           140.8       95          3.92        3.15        22.9        1           0           4           2         \n",
    "Merc 280    19.2        6           167.6       123         3.92        3.44        18.3        1           0           4           4  \n",
    "```"
   ]
  },
  {
   "cell_type": "markdown",
   "metadata": {},
   "source": [
    "Another useful command is `ORDER BY`.  You may intuitively already know what this means, but let's try it out."
   ]
  },
  {
   "cell_type": "markdown",
   "metadata": {},
   "source": [
    "```SQL\n",
    "SELECT * FROM mtcars ORDER BY mpg DESC LIMIT 10;\n",
    "```"
   ]
  },
  {
   "cell_type": "markdown",
   "metadata": {},
   "source": [
    "```\n",
    "name            mpg         cyl         disp        hp          drat        wt          qsec        vs          am          gear        carb      \n",
    "--------------  ----------  ----------  ----------  ----------  ----------  ----------  ----------  ----------  ----------  ----------  ----------\n",
    "Toyota Corolla  33.9        4           71.1        65          4.22        1.835       19.9        1           1           4           1         \n",
    "Fiat 128        32.4        4           78.7        66          4.08        2.2         19.47       1           1           4           1         \n",
    "Honda Civic     30.4        4           75.7        52          4.93        1.615       18.52       1           1           4           2         \n",
    "Lotus Europa    30.4        4           95.1        113         3.77        1.513       16.9        1           1           5           2         \n",
    "Fiat X1-9       27.3        4           79          66          4.08        1.935       18.9        1           1           4           1         \n",
    "Porsche 914-2   26          4           120.3       91          4.43        2.14        16.7        0           1           5           2         \n",
    "Merc 240D       24.4        4           146.7       62          3.69        3.19        20          1           0           4           2         \n",
    "Datsun 710      22.8        4           108         93          3.85        2.32        18.61       1           1           4           1         \n",
    "Merc 230        22.8        4           140.8       95          3.92        3.15        22.9        1           0           4           2         \n",
    "Toyota Corona   21.5        4           120.1       97          3.7         2.465       20.01       1           0           3           1    \n",
    "```"
   ]
  },
  {
   "cell_type": "markdown",
   "metadata": {},
   "source": [
    "Notice that for `ORDER BY` we had to specify the column we wanted to sort on as well as `DESC` which stands for decending since the default in SQLite is ascending order.  Often we are not interested in all the columns in the data, so we just need to specify to `SELECT` which ones we are interested in."
   ]
  },
  {
   "cell_type": "markdown",
   "metadata": {},
   "source": [
    "```SQL\n",
    "SELECT name, cyl, hp, wt, mpg FROM mtcars ORDER BY mpg DESC LIMIT 10;\n",
    "```"
   ]
  },
  {
   "cell_type": "markdown",
   "metadata": {},
   "source": [
    "```\n",
    "name            cyl         hp          wt          mpg       \n",
    "--------------  ----------  ----------  ----------  ----------\n",
    "Toyota Corolla  4           65          1.835       33.9      \n",
    "Fiat 128        4           66          2.2         32.4      \n",
    "Honda Civic     4           52          1.615       30.4      \n",
    "Lotus Europa    4           113         1.513       30.4      \n",
    "Fiat X1-9       4           66          1.935       27.3      \n",
    "Porsche 914-2   4           91          2.14        26        \n",
    "Merc 240D       4           62          3.19        24.4      \n",
    "Datsun 710      4           93          2.32        22.8      \n",
    "Merc 230        4           95          3.15        22.8      \n",
    "Toyota Corona   4           97          2.465       21.5\n",
    "```"
   ]
  },
  {
   "cell_type": "markdown",
   "metadata": {},
   "source": [
    "## `WHERE`\n",
    "When querying data you are almost always going to be just interested in a particular subset which is exactly what `WHERE` does.  You can think of `WHERE` as a filter applied to the rows after the `SELECT` clause.  Here's an example that only returns rows with `cyl = 6`.  Notice that here we will break our query accross several lines.  This can be still copy and pasted into the `sqlite3` console as long as the statement is terminated with a `;`."
   ]
  },
  {
   "cell_type": "markdown",
   "metadata": {},
   "source": [
    "```SQL\n",
    "SELECT name, cyl, hp, wt, mpg \n",
    "FROM mtcars \n",
    "WHERE cyl = 6 \n",
    "ORDER BY mpg DESC \n",
    "LIMIT 10;\n",
    "```"
   ]
  },
  {
   "cell_type": "markdown",
   "metadata": {},
   "source": [
    "```\n",
    "name            cyl         hp          wt          mpg       \n",
    "--------------  ----------  ----------  ----------  ----------\n",
    "Hornet 4 Drive  6           110         3.215       21.4      \n",
    "Mazda RX4       6           110         2.62        21        \n",
    "Mazda RX4 Wag   6           110         2.875       21        \n",
    "Ferrari Dino    6           175         2.77        19.7      \n",
    "Merc 280        6           123         3.44        19.2      \n",
    "Valiant         6           105         3.46        18.1      \n",
    "Merc 280C       6           123         3.44        17.8\n",
    "```"
   ]
  },
  {
   "cell_type": "markdown",
   "metadata": {},
   "source": [
    "The where clause uses most of the conditional operators you are familiar with (`>`, `<`, `!=`, etc...)  For a full list, consult the [documentation](https://www.sqlite.org/lang_select.html#whereclause).  We can also apply multiple filters in the same `WHERE` clause.  For example"
   ]
  },
  {
   "cell_type": "markdown",
   "metadata": {},
   "source": [
    "```SQL\n",
    "SELECT name, cyl, hp, wt, mpg \n",
    "FROM mtcars \n",
    "WHERE cyl = 6 AND mpg >= 20\n",
    "ORDER BY mpg DESC \n",
    "LIMIT 10;\n",
    "```"
   ]
  },
  {
   "cell_type": "markdown",
   "metadata": {},
   "source": [
    "```\n",
    "name            cyl         hp          wt          mpg       \n",
    "--------------  ----------  ----------  ----------  ----------\n",
    "Hornet 4 Drive  6           110         3.215       21.4      \n",
    "Mazda RX4       6           110         2.62        21        \n",
    "Mazda RX4 Wag   6           110         2.875       21    \n",
    "```"
   ]
  },
  {
   "cell_type": "markdown",
   "metadata": {},
   "source": [
    "will return only rows with 6 cylinders and greater than or equal to 20 `mpg`.  Note that SQLite does not use the `&` or `|` operators you may be familiar with coming from a programming background.  Another useful keyword, especially for data science, is `CASE` which can be used to code certain classes of rows."
   ]
  },
  {
   "cell_type": "markdown",
   "metadata": {},
   "source": [
    "```SQL\n",
    "SELECT name, cyl, hp, wt, mpg,\n",
    "    CASE WHEN mpg < 15 THEN 'low'\n",
    "         WHEN mpg < 20 THEN 'med'\n",
    "         WHEN mpg > 20 THEN 'high'\n",
    "    END\n",
    "         AS class\n",
    "FROM mtcars  \n",
    "LIMIT 10;\n",
    "```"
   ]
  },
  {
   "cell_type": "markdown",
   "metadata": {},
   "source": [
    "```\n",
    "name        cyl         hp          wt          mpg         class     \n",
    "----------  ----------  ----------  ----------  ----------  ----------\n",
    "Mazda RX4   6           110         2.62        21          high      \n",
    "Mazda RX4   6           110         2.875       21          high      \n",
    "Datsun 710  4           93          2.32        22.8        high      \n",
    "Hornet 4 D  6           110         3.215       21.4        high      \n",
    "Hornet Spo  8           175         3.44        18.7        med       \n",
    "Valiant     6           105         3.46        18.1        med       \n",
    "Duster 360  8           245         3.57        14.3        low       \n",
    "Merc 240D   4           62          3.19        24.4        high      \n",
    "Merc 230    4           95          3.15        22.8        high      \n",
    "Merc 280    6           123         3.44        19.2        med     \n",
    "```"
   ]
  },
  {
   "cell_type": "markdown",
   "metadata": {},
   "source": [
    "Note that `AS` is used to name objects in SQL.  For example"
   ]
  },
  {
   "cell_type": "markdown",
   "metadata": {},
   "source": [
    "```SQL\n",
    "SELECT name AS car, cyl, hp, wt, mpg,\n",
    "    CASE WHEN mpg < 15 THEN 'low'\n",
    "         WHEN mpg < 20 THEN 'med'\n",
    "         WHEN mpg > 20 THEN 'high'\n",
    "    END\n",
    "         AS class\n",
    "FROM mtcars  \n",
    "LIMIT 10;\n",
    "```"
   ]
  },
  {
   "cell_type": "markdown",
   "metadata": {},
   "source": [
    "```\n",
    "car         cyl         hp          wt          mpg         class     \n",
    "----------  ----------  ----------  ----------  ----------  ----------\n",
    "Mazda RX4   6           110         2.62        21          high      \n",
    "Mazda RX4   6           110         2.875       21          high      \n",
    "Datsun 710  4           93          2.32        22.8        high      \n",
    "Hornet 4 D  6           110         3.215       21.4        high      \n",
    "Hornet Spo  8           175         3.44        18.7        med       \n",
    "Valiant     6           105         3.46        18.1        med       \n",
    "Duster 360  8           245         3.57        14.3        low       \n",
    "Merc 240D   4           62          3.19        24.4        high      \n",
    "Merc 230    4           95          3.15        22.8        high      \n",
    "Merc 280    6           123         3.44        19.2        med      \n",
    "```"
   ]
  },
  {
   "cell_type": "markdown",
   "metadata": {},
   "source": [
    "renames the `name` column as `car`."
   ]
  },
  {
   "cell_type": "markdown",
   "metadata": {},
   "source": [
    "## `GROUP BY` and Aggregate Functions"
   ]
  },
  {
   "cell_type": "markdown",
   "metadata": {},
   "source": [
    "Before moving forward, it may be helpful to take a look at the SQL [flow diagram](https://www.sqlite.org/lang_select.html) in the SQLite Documentation.  It is probably not too useful to spend a lot of time with it, but having it in mind as we move into `GROUP BY` and Aggregate Functions will be helpful.\n",
    "\n",
    "`GROUP BY` and Aggregate Functions go hand in hand.  Aggregate Functions are essentially functions that you can perform on columns in the data.  The function `avg()` for example"
   ]
  },
  {
   "cell_type": "markdown",
   "metadata": {},
   "source": [
    "```SQL\n",
    "SELECT avg(mpg) FROM mtcars;\n",
    "```"
   ]
  },
  {
   "cell_type": "markdown",
   "metadata": {},
   "source": [
    "```\n",
    "avg(mpg)  \n",
    "----------\n",
    "20.090625\n",
    "```"
   ]
  },
  {
   "cell_type": "markdown",
   "metadata": {},
   "source": [
    "returns the average mpg for all cars in the data.  What if we were to change the query a bit and instead said"
   ]
  },
  {
   "cell_type": "markdown",
   "metadata": {},
   "source": [
    "```SQL\n",
    "SELECT name, cyl, hp, wt, avg(mpg) FROM mtcars;\n",
    "```"
   ]
  },
  {
   "cell_type": "markdown",
   "metadata": {},
   "source": [
    "```\n",
    "name        cyl         hp          wt          avg(mpg)  \n",
    "----------  ----------  ----------  ----------  ----------\n",
    "Volvo 142E  4           109         2.78        20.090625 \n",
    "```"
   ]
  },
  {
   "cell_type": "markdown",
   "metadata": {},
   "source": [
    "One row is returned with the average mpg inserted into the mpg column.  But why that particular row?  The answer to this is honestly not particularly useful, but keep in mind that aggregate functions are almost always intended to be used with a `GROUP BY` clause, otherwise, you get nonsense like the above back.  Let's instead use a `GROUP BY` clause to return something more informative."
   ]
  },
  {
   "cell_type": "markdown",
   "metadata": {},
   "source": [
    "```SQL\n",
    "SELECT cyl,\n",
    "    avg(hp) as avg_hp,\n",
    "    avg(wt) as avg_wt,\n",
    "    avg(mpg) as avg_mpg\n",
    "FROM mtcars\n",
    "GROUP BY cyl;\n",
    "```"
   ]
  },
  {
   "cell_type": "markdown",
   "metadata": {},
   "source": [
    "```\n",
    "cyl         avg_hp            avg_wt            avg_mpg         \n",
    "----------  ----------------  ----------------  ----------------\n",
    "4           82.6363636363636  2.28572727272727  26.6636363636364\n",
    "6           122.285714285714  3.11714285714286  19.7428571428571\n",
    "8           209.214285714286  3.99921428571429  15.1          \n",
    "```"
   ]
  },
  {
   "cell_type": "markdown",
   "metadata": {},
   "source": [
    "Now this is much more useful.  What was returned was the average value of the specified columns for each unique value in the `GROUP BY` clause, in this case, the cylinders.  It is **very** important to keep in mind however, that `GROUP BY` will group by each *unique* value in the columns.  This isn't a problem here since there are only 3 unique values of `cyl`, but what if we had, for example, grouped by `wt` or some other column that had many more unique values?  Well, `GROUP BY` will return a table with a number of rows equal to the number of unique values.  On small datasets, this isn't too much of a problem, but when working with a very large database, `GROUP BY` and aggregate function calls can be a bit taxing and can really slow things down, or potentially lock up your client (and irrate your DBA) if you aren't careful.\n",
    "\n",
    "We can also `GROUP BY` multiple columns."
   ]
  },
  {
   "cell_type": "markdown",
   "metadata": {},
   "source": [
    "```SQL\n",
    "SELECT cyl,\n",
    "    avg(hp) as avg_hp,\n",
    "    avg(wt) as avg_wt,\n",
    "    avg(mpg) as avg_mpg,\n",
    "    CASE WHEN mpg < 15 THEN 'low'\n",
    "         WHEN mpg < 20 THEN 'med'\n",
    "         WHEN mpg > 20 THEN 'high'\n",
    "    END\n",
    "         AS class\n",
    "FROM mtcars\n",
    "GROUP BY cyl, class;\n",
    "```"
   ]
  },
  {
   "cell_type": "markdown",
   "metadata": {},
   "source": [
    "```\n",
    "cyl         avg_hp            avg_wt            avg_mpg           class     \n",
    "----------  ----------------  ----------------  ----------------  ----------\n",
    "4           82.6363636363636  2.28572727272727  26.6636363636364  high      \n",
    "6           110.0             2.90333333333333  21.1333333333333  high      \n",
    "6           131.5             3.2775            18.7              med       \n",
    "8           228.0             4.6858            12.62             low       \n",
    "8           198.777777777778  3.61777777777778  16.4777777777778  med  \n",
    "```"
   ]
  },
  {
   "cell_type": "markdown",
   "metadata": {},
   "source": [
    "Another useful keyword is `LIKE` which is used in a manner similar to regular expressions."
   ]
  },
  {
   "cell_type": "markdown",
   "metadata": {},
   "source": [
    "```SQL\n",
    "SELECT name,\n",
    "    cyl,\n",
    "    avg(hp) as avg_hp,\n",
    "    avg(wt) as avg_wt,\n",
    "    avg(mpg) as avg_mpg,\n",
    "    CASE WHEN mpg < 15 THEN 'low'\n",
    "         WHEN mpg < 20 THEN 'med'\n",
    "         WHEN mpg > 20 THEN 'high'\n",
    "    END\n",
    "         AS class\n",
    "FROM mtcars\n",
    "WHERE name LIKE 'Merc%'\n",
    "GROUP BY cyl, class;\n",
    "```"
   ]
  },
  {
   "cell_type": "markdown",
   "metadata": {},
   "source": [
    "```\n",
    "name        cyl         avg_hp      avg_wt      avg_mpg     class     \n",
    "----------  ----------  ----------  ----------  ----------  ----------\n",
    "Merc 230    4           78.5        3.17        23.6        high      \n",
    "Merc 280C   6           123.0       3.44        18.5        med       \n",
    "Merc 450SL  8           180.0       3.86        16.3        med   \n",
    "```"
   ]
  },
  {
   "cell_type": "markdown",
   "metadata": {
    "collapsed": true
   },
   "source": [
    "Which returns only the averages of Mercedes cars grouped by class and cylinders.  Before experimenting a bit more, let's add the class column to the table permanently.  To do that, we must use `ALTER TABLE` and `ADD`.  But what if we only want to return `cyl` and a count of the cars in each group only if the group has an average hoursepower of at least 120?  We could try"
   ]
  },
  {
   "cell_type": "markdown",
   "metadata": {},
   "source": [
    "```SQL\n",
    "ALTER TABLE mtcars\n",
    "ADD class char;\n",
    "```"
   ]
  },
  {
   "cell_type": "markdown",
   "metadata": {},
   "source": [
    "The `ADD` statement is of the form `ADD col_name data_type`.  In our case, we want the column to be of type `char`.  And now let's take a look at the table"
   ]
  },
  {
   "cell_type": "markdown",
   "metadata": {},
   "source": [
    "```SQL\n",
    "SELECT * FROM mtcars LIMIT 10;\n",
    "```"
   ]
  },
  {
   "cell_type": "markdown",
   "metadata": {},
   "source": [
    "```\n",
    "name        mpg         cyl         disp        hp          drat        wt          qsec        vs          am          gear        carb        class     \n",
    "----------  ----------  ----------  ----------  ----------  ----------  ----------  ----------  ----------  ----------  ----------  ----------  ----------\n",
    "Mazda RX4   21          6           160         110         3.9         2.62        16.46       0           1           4           4                     \n",
    "Mazda RX4   21          6           160         110         3.9         2.875       17.02       0           1           4           4                     \n",
    "Datsun 710  22.8        4           108         93          3.85        2.32        18.61       1           1           4           1                     \n",
    "Hornet 4 D  21.4        6           258         110         3.08        3.215       19.44       1           0           3           1                     \n",
    "Hornet Spo  18.7        8           360         175         3.15        3.44        17.02       0           0           3           2                     \n",
    "Valiant     18.1        6           225         105         2.76        3.46        20.22       1           0           3           1                     \n",
    "Duster 360  14.3        8           360         245         3.21        3.57        15.84       0           0           3           4                     \n",
    "Merc 240D   24.4        4           146.7       62          3.69        3.19        20          1           0           4           2                     \n",
    "Merc 230    22.8        4           140.8       95          3.92        3.15        22.9        1           0           4           2                     \n",
    "Merc 280    19.2        6           167.6       123         3.92        3.44        18.3        1           0           4           4       \n",
    "```"
   ]
  },
  {
   "cell_type": "markdown",
   "metadata": {},
   "source": [
    "Notice how the new column is empty.  To put the data in it, we need to use `UPDATE` and `SET`."
   ]
  },
  {
   "cell_type": "markdown",
   "metadata": {},
   "source": [
    "```SQL\n",
    "UPDATE mtcars\n",
    "SET class = CASE WHEN mpg < 15 THEN 'low'\n",
    "                 WHEN mpg < 20 THEN 'med'\n",
    "                 WHEN mpg > 20 THEN 'high'\n",
    "            END;\n",
    "```"
   ]
  },
  {
   "cell_type": "markdown",
   "metadata": {},
   "source": [
    "Again let's take a look."
   ]
  },
  {
   "cell_type": "markdown",
   "metadata": {},
   "source": [
    "```SQL\n",
    "SELECT * FROM mtcars LIMIT 10;\n",
    "```"
   ]
  },
  {
   "cell_type": "markdown",
   "metadata": {},
   "source": [
    "```\n",
    "name        mpg         cyl         disp        hp          drat        wt          qsec        vs          am          gear        carb        class     \n",
    "----------  ----------  ----------  ----------  ----------  ----------  ----------  ----------  ----------  ----------  ----------  ----------  ----------\n",
    "Mazda RX4   21          6           160         110         3.9         2.62        16.46       0           1           4           4           high      \n",
    "Mazda RX4   21          6           160         110         3.9         2.875       17.02       0           1           4           4           high      \n",
    "Datsun 710  22.8        4           108         93          3.85        2.32        18.61       1           1           4           1           high      \n",
    "Hornet 4 D  21.4        6           258         110         3.08        3.215       19.44       1           0           3           1           high      \n",
    "Hornet Spo  18.7        8           360         175         3.15        3.44        17.02       0           0           3           2           med       \n",
    "Valiant     18.1        6           225         105         2.76        3.46        20.22       1           0           3           1           med       \n",
    "Duster 360  14.3        8           360         245         3.21        3.57        15.84       0           0           3           4           low       \n",
    "Merc 240D   24.4        4           146.7       62          3.69        3.19        20          1           0           4           2           high      \n",
    "Merc 230    22.8        4           140.8       95          3.92        3.15        22.9        1           0           4           2           high      \n",
    "Merc 280    19.2        6           167.6       123         3.92        3.44        18.3        1           0           4           4           med \n",
    "```"
   ]
  },
  {
   "cell_type": "markdown",
   "metadata": {},
   "source": [
    "Now all appears in order.  Let's suppose that we only want to return `class` and a count of the cars in each group only if the group has an average hoursepower of at least 120?  We could try"
   ]
  },
  {
   "cell_type": "markdown",
   "metadata": {},
   "source": [
    "```SQL\n",
    "SELECT class, count(name)\n",
    "FROM mtcars\n",
    "WHERE avg(hp) >= 120\n",
    "GROUP BY class;\n",
    "```"
   ]
  },
  {
   "cell_type": "markdown",
   "metadata": {},
   "source": [
    "```\n",
    "Error: misuse of aggregate: avg()\n",
    "```"
   ]
  },
  {
   "cell_type": "markdown",
   "metadata": {},
   "source": [
    "but SQLite produces an error.  Instead, we must use a `HAVING` clause.  `HAVING` is essentially the same as `WHERE` but takes place after all filtering and grouping, and can thus filter using aggregate functions.  So if we write"
   ]
  },
  {
   "cell_type": "markdown",
   "metadata": {},
   "source": [
    "```SQL\n",
    "SELECT class, count(name) as car_count\n",
    "FROM mtcars\n",
    "GROUP BY class\n",
    "HAVING avg(hp) >= 120;\n",
    "```"
   ]
  },
  {
   "cell_type": "markdown",
   "metadata": {},
   "source": [
    "```\n",
    "class       car_count \n",
    "----------  ----------\n",
    "low         5         \n",
    "med         13        \n",
    "```"
   ]
  },
  {
   "cell_type": "markdown",
   "metadata": {},
   "source": [
    "SQLite returns the count of each class having an average `hp` of at least 120.  We could also first filter out the cars with an `hp` of less than 120, count them, and then remove the classes with an average `hp` of less than 120."
   ]
  },
  {
   "cell_type": "markdown",
   "metadata": {},
   "source": [
    "```SQL\n",
    "SELECT class, count(name) as car_count\n",
    "FROM mtcars\n",
    "WHERE hp >= 120\n",
    "GROUP BY class\n",
    "HAVING avg(hp) >= 120;\n",
    "```"
   ]
  },
  {
   "cell_type": "markdown",
   "metadata": {},
   "source": [
    "```\n",
    "class       car_count \n",
    "----------  ----------\n",
    "low         5         \n",
    "med         12\n",
    "```"
   ]
  },
  {
   "cell_type": "markdown",
   "metadata": {},
   "source": [
    "## Joins\n",
    "Very often in practice, you'll find yourself in a situation where you need to merge together data from several different sources.  For example, you may have some ZIP Level Census data and you want to attach to some ZIP Level real estate sales, or maybe you have a list of flight arrivals at an airport, listed by tail number, that you want to match with radar data.  Join operations are how such tasks are performed using SQL.\n",
    "\n",
    "### Data\n",
    "Before we jump into the various kinds of joins, we first need some data to work with.  Here we're going to use some airline passenger and flight data which can be downloaded [here](https://vincentarelbundock.github.io/Rdatasets/csv/datasets/AirPassengers.csv) and [here](https://vincentarelbundock.github.io/Rdatasets/csv/datasets/airmiles.csv).\n",
    "\n",
    "After downloading them, take a look and familiarize yourself with the contents.  Now let's bring them into our environment."
   ]
  },
  {
   "cell_type": "markdown",
   "metadata": {},
   "source": [
    "```\n",
    ".mode csv\n",
    ".import airmiles.csv airmiles\n",
    ".import AirPassengers.csv AirPassengers\n",
    "\n",
    ".mode columns\n",
    ".headers on\n",
    "```"
   ]
  },
  {
   "cell_type": "markdown",
   "metadata": {},
   "source": [
    "```SQL\n",
    "SELECT * FROM airmiles LIMIT 5;\n",
    "```"
   ]
  },
  {
   "cell_type": "markdown",
   "metadata": {},
   "source": [
    "```\n",
    "            time        airmiles  \n",
    "----------  ----------  ----------\n",
    "1           1937        412       \n",
    "2           1938        480       \n",
    "3           1939        683       \n",
    "4           1940        1052      \n",
    "5           1941        1385 \n",
    "```"
   ]
  },
  {
   "cell_type": "markdown",
   "metadata": {},
   "source": [
    "```SQL\n",
    "SELECT * FROM AirPassengers LIMIT 5;\n",
    "```"
   ]
  },
  {
   "cell_type": "markdown",
   "metadata": {},
   "source": [
    "```\n",
    "            time        AirPassengers\n",
    "----------  ----------  -------------\n",
    "1           1949        112          \n",
    "2           1949.08333  118          \n",
    "3           1949.16666  132          \n",
    "4           1949.25     129          \n",
    "5           1949.33333  121          \n",
    "```"
   ]
  },
  {
   "cell_type": "markdown",
   "metadata": {},
   "source": [
    "It looks like that first column in both is just a row index left over when the data was dumped.  Let's remove it."
   ]
  },
  {
   "cell_type": "markdown",
   "metadata": {},
   "source": [
    "```SQL\n",
    "CREATE TABLE temp AS SELECT time, airmiles FROM airmiles;\n",
    "DROP TABLE airmiles;\n",
    "ALTER TABLE temp RENAME TO airmiles;\n",
    "```"
   ]
  },
  {
   "cell_type": "markdown",
   "metadata": {},
   "source": [
    "```SQL\n",
    "CREATE TABLE temp AS SELECT time, AirPassengers FROM AirPassengers;\n",
    "DROP TABLE AirPassengers;\n",
    "ALTER TABLE temp RENAME TO AirPassengers;\n",
    "```"
   ]
  },
  {
   "cell_type": "markdown",
   "metadata": {},
   "source": [
    "```SQL\n",
    "SELECT * FROM airmiles LIMIT 5;\n",
    "```"
   ]
  },
  {
   "cell_type": "markdown",
   "metadata": {},
   "source": [
    "```\n",
    "time        airmiles  \n",
    "----------  ----------\n",
    "1937        412       \n",
    "1938        480       \n",
    "1939        683       \n",
    "1940        1052      \n",
    "1941        1385   \n",
    "```"
   ]
  },
  {
   "cell_type": "markdown",
   "metadata": {},
   "source": [
    "```SQL\n",
    "SELECT * FROM AirPassengers LIMIT 5;\n",
    "```"
   ]
  },
  {
   "cell_type": "markdown",
   "metadata": {},
   "source": [
    "```\n",
    "time        AirPassengers\n",
    "----------  -------------\n",
    "1949        112          \n",
    "1949.08333  118          \n",
    "1949.16666  132          \n",
    "1949.25     129          \n",
    "1949.33333  121  \n",
    "```"
   ]
  },
  {
   "cell_type": "markdown",
   "metadata": {},
   "source": [
    "And now examine them again."
   ]
  },
  {
   "cell_type": "markdown",
   "metadata": {},
   "source": [
    "Note that most SQL systems include a `DROP COLUMN` function, but SQLite does not.  As such, we have to use the method above of creating a temporary table with the needed columns and renaming it."
   ]
  },
  {
   "cell_type": "markdown",
   "metadata": {},
   "source": [
    "### `JOIN`\n",
    "`JOIN` in SQLite is also called an inner join.  If you are familiar with set theory, this operation represents the Cartesian Product of the two sets.  In other words, every element the left table is matched with every element in the right table.  Consult the [documentation](https://www.sqlite.org/lang_select.html#fromclause) for a more precise definition.  Let's do a simple but pretty useless `JOIN` to illustrate exactly what is going on."
   ]
  },
  {
   "cell_type": "markdown",
   "metadata": {},
   "source": [
    "```SQL\n",
    "SELECT m.*, p.* FROM airmiles m JOIN AirPassengers p;\n",
    "```"
   ]
  },
  {
   "cell_type": "markdown",
   "metadata": {},
   "source": [
    "```\n",
    "time        airmiles    time        AirPassengers\n",
    "----------  ----------  ----------  -------------\n",
    "1937        412         1949        112          \n",
    "1937        412         1949.08333  118          \n",
    "1937        412         1949.16666  132          \n",
    "1937        412         1949.25     129          \n",
    "1937        412         1949.33333  121          \n",
    "1937        412         1949.41666  135          \n",
    "1937        412         1949.5      148          \n",
    "1937        412         1949.58333  148          \n",
    "1937        412         1949.66666  136          \n",
    "1937        412         1949.75     119          \n",
    "1937        412         1949.83333  104          \n",
    "1937        412         1949.91666  118          \n",
    "...         ...         ..........  ...\n",
    "```"
   ]
  },
  {
   "cell_type": "markdown",
   "metadata": {},
   "source": [
    "As you can see, every row in airmiles is matched to every row in AirPassengers.  Note that in the `FROM` clause, we rename the tables within the query for brevity.\n",
    "\n",
    "A much more useful `JOIN` for this data would be to join them on their common element, namely, the time."
   ]
  },
  {
   "cell_type": "markdown",
   "metadata": {},
   "source": [
    "```SQL\n",
    "SELECT m.*, p.* FROM airmiles m JOIN AirPassengers p ON m.time = p.time;\n",
    "```"
   ]
  },
  {
   "cell_type": "markdown",
   "metadata": {},
   "source": [
    "```\n",
    "time        airmiles    time        AirPassengers\n",
    "----------  ----------  ----------  -------------\n",
    "1949        6753        1949        112          \n",
    "1950        8003        1950        115          \n",
    "1951        10566       1951        145          \n",
    "1952        12528       1952        171          \n",
    "1953        14760       1953        196          \n",
    "1954        16769       1954        204          \n",
    "1955        19819       1955        242          \n",
    "1956        22362       1956        284          \n",
    "1957        25340       1957        315          \n",
    "1958        25343       1958        340          \n",
    "1959        29269       1959        360          \n",
    "1960        30514       1960        417   \n",
    "```"
   ]
  },
  {
   "cell_type": "markdown",
   "metadata": {},
   "source": [
    "As you can see, every unique `time` in `airmiles` is matched with the corresponding `time` in `AirPassengers`.  This is specified in the `ON` clause which almost always will follow a `JOIN` statement."
   ]
  },
  {
   "cell_type": "markdown",
   "metadata": {},
   "source": [
    "```SQL\n",
    "SELECT m.*, p.* FROM airmiles m JOIN AirPassengers p ON m.time = p.time;\n",
    "```"
   ]
  },
  {
   "cell_type": "markdown",
   "metadata": {},
   "source": [
    "```\n",
    "time        airmiles    time        AirPassengers\n",
    "----------  ----------  ----------  -------------\n",
    "1949        6753        1949        112          \n",
    "1950        8003        1950        115          \n",
    "1951        10566       1951        145          \n",
    "1952        12528       1952        171          \n",
    "1953        14760       1953        196          \n",
    "1954        16769       1954        204          \n",
    "1955        19819       1955        242          \n",
    "1956        22362       1956        284          \n",
    "1957        25340       1957        315          \n",
    "1958        25343       1958        340          \n",
    "1959        29269       1959        360          \n",
    "1960        30514       1960        417 \n",
    "```"
   ]
  },
  {
   "cell_type": "markdown",
   "metadata": {},
   "source": [
    "### `LEFT JOIN`\n",
    "Suppose that instead of returning only rows with matching values, like in the inner join above, you instead wanted to return *all* rows for one of the tables.  This operation is called an outer join, and specifically, a `LEFT JOIN` in SQLite since the table on the left will have *all* its rows returned.  For example"
   ]
  },
  {
   "cell_type": "markdown",
   "metadata": {},
   "source": [
    "```SQL\n",
    "SELECT p.*, m.* FROM AirPassengers p LEFT JOIN airmiles m  ON p.time = m.time;\n",
    "```"
   ]
  },
  {
   "cell_type": "markdown",
   "metadata": {},
   "source": [
    "```\n",
    "time        AirPassengers  time        airmiles  \n",
    "----------  -------------  ----------  ----------\n",
    "1949        112            1949        6753      \n",
    "1949.08333  118                                  \n",
    "1949.16666  132                                  \n",
    "1949.25     129                                  \n",
    "1949.33333  121                                  \n",
    "1949.41666  135                                  \n",
    "1949.5      148                                  \n",
    "1949.58333  148                                  \n",
    "1949.66666  136                                  \n",
    "1949.75     119                                  \n",
    "1949.83333  104                                  \n",
    "1949.91666  118                                  \n",
    "1950        115            1950        8003      \n",
    "1950.08333  126                                  \n",
    "1950.16666  141   \n",
    "..........  ...            ....        ....\n",
    "```"
   ]
  },
  {
   "cell_type": "markdown",
   "metadata": {},
   "source": [
    "Returns *all* rows in the left table even if there is no matching row in the right table.  In practice, you'll find that an inner join is typically what you want, but in situations where you want to keep track of what data is actually missing, you'll end up going for the outer join."
   ]
  },
  {
   "cell_type": "markdown",
   "metadata": {},
   "source": [
    "## Exercises"
   ]
  },
  {
   "cell_type": "markdown",
   "metadata": {},
   "source": [
    "Using the [Titanic](https://vincentarelbundock.github.io/Rdatasets/csv/datasets/Titanic.csv) dataset, perform the following exercises.\n",
    "\n",
    "1. Import the data into SQLite, removing the index column.\n",
    "1. Run a query that returns the number of passengers in each class under the age of 16.\n",
    "1. Run a query that returns the average age of those who died (`Survived = 0`) and those who survived for male and female separately as well as the counts for each group.\n",
    "1. Run a query that returns the portion of survivors in each class.\n",
    "1. Run a query that returns the portion of females and males in each class who survived with an age greater than the average.\n",
    "1. Download the [USArrest](https://vincentarelbundock.github.io/Rdatasets/csv/datasets/USArrests.csv) and [road](https://vincentarelbundock.github.io/Rdatasets/csv/MASS/road.csv) accident data and perform the following.\n",
    "    1. Import the data into your SQLite environment.\n",
    "    1. What column should the data be joined on?  After identifying it, `JOIN` on that column.\n",
    "    1. Perform a `LEFT_JOIN` on the column identified in part 2.\n",
    "    1. Are the results of your joins useful?  If not, what would be required to fix them? (Don't actually do it!)."
   ]
  }
 ],
 "metadata": {
  "anaconda-cloud": {},
  "kernelspec": {
   "display_name": "Sqlite3",
   "language": "sqlite3",
   "name": "sqlite3"
  },
  "language_info": {
   "codemirror_mode": "shell",
   "file_extension": ".sql",
   "mimetype": "text/x-sh",
   "name": "sqlite3"
  }
 },
 "nbformat": 4,
 "nbformat_minor": 2
}
