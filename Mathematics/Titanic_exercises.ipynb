{
 "cells": [
  {
   "cell_type": "markdown",
   "metadata": {},
   "source": [
    "# Titanic Data Set - Statistics Review\n",
    "\n",
    "[Variable Descriptions](https://www.kaggle.com/c/titanic/data)."
   ]
  },
  {
   "cell_type": "markdown",
   "metadata": {},
   "source": [
    "**Describe the data. **\n",
    "- How big?\n",
    "- What are the columns and what do they mean?"
   ]
  },
  {
   "cell_type": "code",
   "execution_count": 52,
   "metadata": {},
   "outputs": [
    {
     "name": "stdout",
     "output_type": "stream",
     "text": [
      "       PassengerId    Survived      Pclass         Age       SibSp  \\\n",
      "count   891.000000  891.000000  891.000000  714.000000  891.000000   \n",
      "mean    446.000000    0.383838    2.308642   29.699118    0.523008   \n",
      "std     257.353842    0.486592    0.836071   14.526497    1.102743   \n",
      "min       1.000000    0.000000    1.000000    0.420000    0.000000   \n",
      "25%     223.500000    0.000000    2.000000   20.125000    0.000000   \n",
      "50%     446.000000    0.000000    3.000000   28.000000    0.000000   \n",
      "75%     668.500000    1.000000    3.000000   38.000000    1.000000   \n",
      "max     891.000000    1.000000    3.000000   80.000000    8.000000   \n",
      "\n",
      "            Parch        Fare  \n",
      "count  891.000000  891.000000  \n",
      "mean     0.381594   32.204208  \n",
      "std      0.806057   49.693429  \n",
      "min      0.000000    0.000000  \n",
      "25%      0.000000    7.910400  \n",
      "50%      0.000000   14.454200  \n",
      "75%      0.000000   31.000000  \n",
      "max      6.000000  512.329200  \n",
      "(891, 12)\n",
      "PassengerId      int64\n",
      "Survived         int64\n",
      "Pclass           int64\n",
      "Name            object\n",
      "Sex             object\n",
      "Age            float64\n",
      "SibSp            int64\n",
      "Parch            int64\n",
      "Ticket          object\n",
      "Fare           float64\n",
      "Cabin           object\n",
      "Embarked        object\n",
      "dtype: object\n",
      "   PassengerId  Survived  Pclass  \\\n",
      "0            1         0       3   \n",
      "1            2         1       1   \n",
      "2            3         1       3   \n",
      "3            4         1       1   \n",
      "4            5         0       3   \n",
      "\n",
      "                                                Name     Sex   Age  SibSp  \\\n",
      "0                            Braund, Mr. Owen Harris    male  22.0      1   \n",
      "1  Cumings, Mrs. John Bradley (Florence Briggs Th...  female  38.0      1   \n",
      "2                             Heikkinen, Miss. Laina  female  26.0      0   \n",
      "3       Futrelle, Mrs. Jacques Heath (Lily May Peel)  female  35.0      1   \n",
      "4                           Allen, Mr. William Henry    male  35.0      0   \n",
      "\n",
      "   Parch            Ticket     Fare Cabin Embarked  \n",
      "0      0         A/5 21171   7.2500   NaN        S  \n",
      "1      0          PC 17599  71.2833   C85        C  \n",
      "2      0  STON/O2. 3101282   7.9250   NaN        S  \n",
      "3      0            113803  53.1000  C123        S  \n",
      "4      0            373450   8.0500   NaN        S  \n"
     ]
    }
   ],
   "source": [
    "import numpy as np\n",
    "import pandas as pd\n",
    "import matplotlib.pyplot as plt\n",
    "\n",
    "%matplotlib inline\n",
    "\n",
    "titanic_df = pd.read_csv(\"titanic.csv\")\n",
    "print(titanic_df.describe())\n",
    "print(titanic_df.shape)\n",
    "print(titanic_df.dtypes)\n",
    "print(titanic_df.head())"
   ]
  },
  {
   "cell_type": "markdown",
   "metadata": {},
   "source": [
    "**What’s the average age of:**\n",
    "\n",
    "- Any Titanic passenger\n",
    "- A survivor\n",
    "- A non-surviving first-class passenger\n",
    "- Male survivors older than 30 from anywhere but Queenstown"
   ]
  },
  {
   "cell_type": "code",
   "execution_count": 33,
   "metadata": {},
   "outputs": [],
   "source": [
    "#print('Average age of any Titanic passenger: ', titanic_df['Age'].mean())\n",
    "#print('Average age any surviving Titanic passenger: ', titanic_df.Age[titanic_df['Survived'] == 1].mean())\n",
    "#print('Average age of non-surviving first-class passenger: ', titanic_df.Age[[titanic_df['Survived']==0], [titanic_df['Pclass']==1]])"
   ]
  },
  {
   "cell_type": "code",
   "execution_count": 53,
   "metadata": {},
   "outputs": [
    {
     "name": "stderr",
     "output_type": "stream",
     "text": [
      "/home/nick/anaconda3/lib/python3.6/site-packages/ipykernel_launcher.py:10: UserWarning: Boolean Series key will be reindexed to match DataFrame index.\n",
      "  # Remove the CWD from sys.path while we load stuff.\n"
     ]
    },
    {
     "data": {
      "text/plain": [
       "Any Titanic Passenger                                        29.699118\n",
       "A Survivor                                                   28.343690\n",
       "A Non-surviving 1st Class Passenger                          43.695312\n",
       "Male Survivors older than 30 from Anywhere but Queenstown    41.487805\n",
       "dtype: float64"
      ]
     },
     "execution_count": 53,
     "metadata": {},
     "output_type": "execute_result"
    }
   ],
   "source": [
    "#pred is short for predicate, which evaluates an expression as True or False. \n",
    "\n",
    "pred_survived = titanic_df['Survived'] == 1  \n",
    "pred_1stclass = titanic_df['Pclass'] == 1\n",
    "pred_male = titanic_df['Sex'] == 'male'\n",
    "\n",
    "#create various data frames that are based on our predicates, i.e. the surv data frame shows all the data where survived = 1\n",
    "surv = titanic_df[pred_survived]\n",
    "nonsurv_1stcl = titanic_df[~(pred_survived) & (pred_1stclass)]  # '~' means 'not'\n",
    "male_surv_30 = surv[(pred_male) & (surv['Age'] > 30) & (surv['Embarked'] != 'Q')]\n",
    "\n",
    "avg_ages = pd.Series([titanic_df['Age'].mean(),\n",
    "                     surv['Age'].mean(),\n",
    "                     nonsurv_1stcl['Age'].mean(),\n",
    "                     male_surv_30['Age'].mean()])\n",
    "\n",
    "avg_ages.index = ['Any Titanic Passenger', 'A Survivor', 'A Non-surviving 1st Class Passenger',\n",
    "                 'Male Survivors older than 30 from Anywhere but Queenstown']\n",
    "\n",
    "avg_ages\n"
   ]
  },
  {
   "cell_type": "markdown",
   "metadata": {},
   "source": [
    "**For the groups from the previous task, how far (in years) are the average ages from the median ages?**"
   ]
  },
  {
   "cell_type": "code",
   "execution_count": 54,
   "metadata": {},
   "outputs": [
    {
     "data": {
      "text/plain": [
       "Any Titanic Passenger                                       -1.699118\n",
       "A Survivor                                                  -0.343690\n",
       "A Non-surviving 1st Class Passenger                          1.554688\n",
       "Male Survivors older than 30 from Anywhere but Queenstown   -3.487805\n",
       "dtype: float64"
      ]
     },
     "execution_count": 54,
     "metadata": {},
     "output_type": "execute_result"
    }
   ],
   "source": [
    "median_ages = pd.Series([titanic_df['Age'].median(),\n",
    "                     surv['Age'].median(),\n",
    "                     nonsurv_1stcl['Age'].median(),\n",
    "                     male_surv_30['Age'].median()])\n",
    "\n",
    "median_ages.index = ['Any Titanic Passenger', 'A Survivor', 'A Non-surviving 1st Class Passenger',\n",
    "                 'Male Survivors older than 30 from Anywhere but Queenstown']\n",
    "median_ages - avg_ages"
   ]
  },
  {
   "cell_type": "markdown",
   "metadata": {},
   "source": [
    "**What’s the most common:**\n",
    "- Passenger class\n",
    "- Port of Embarkation\n",
    "- Number of siblings or spouses aboard for survivors"
   ]
  },
  {
   "cell_type": "code",
   "execution_count": 84,
   "metadata": {},
   "outputs": [
    {
     "data": {
      "text/html": [
       "<div>\n",
       "<style>\n",
       "    .dataframe thead tr:only-child th {\n",
       "        text-align: right;\n",
       "    }\n",
       "\n",
       "    .dataframe thead th {\n",
       "        text-align: left;\n",
       "    }\n",
       "\n",
       "    .dataframe tbody tr th {\n",
       "        vertical-align: top;\n",
       "    }\n",
       "</style>\n",
       "<table border=\"1\" class=\"dataframe\">\n",
       "  <thead>\n",
       "    <tr style=\"text-align: right;\">\n",
       "      <th></th>\n",
       "      <th>0</th>\n",
       "    </tr>\n",
       "  </thead>\n",
       "  <tbody>\n",
       "    <tr>\n",
       "      <th>Passenger Class</th>\n",
       "      <td>3</td>\n",
       "    </tr>\n",
       "    <tr>\n",
       "      <th>Port of Embarkation</th>\n",
       "      <td>Southampton</td>\n",
       "    </tr>\n",
       "    <tr>\n",
       "      <th>Number of Siblings/Spouses Aboard for Survivors</th>\n",
       "      <td>0</td>\n",
       "    </tr>\n",
       "  </tbody>\n",
       "</table>\n",
       "</div>"
      ],
      "text/plain": [
       "                                                           0\n",
       "Passenger Class                                            3\n",
       "Port of Embarkation                              Southampton\n",
       "Number of Siblings/Spouses Aboard for Survivors            0"
      ]
     },
     "execution_count": 84,
     "metadata": {},
     "output_type": "execute_result"
    }
   ],
   "source": [
    "ports = {'C': 'Cherbourg',\n",
    "         'Q': 'Queenstown',\n",
    "         'S': 'Southampton'}\n",
    "\n",
    "common = pd.DataFrame([titanic_df['Pclass'].mode(),\n",
    "                   titanic_df['Embarked'].mode().map(ports),\n",
    "                   surv['SibSp'].mode()])\n",
    "common.index = ['Passenger Class', 'Port of Embarkation', 'Number of Siblings/Spouses Aboard for Survivors']\n",
    "common"
   ]
  },
  {
   "cell_type": "markdown",
   "metadata": {},
   "source": [
    "**Within what range of standard deviations from the mean (0-1, 1-2, 2-3) is the median ticket price? Is it above or below the mean?**"
   ]
  },
  {
   "cell_type": "code",
   "execution_count": 85,
   "metadata": {},
   "outputs": [
    {
     "data": {
      "text/plain": [
       "-0.3571902456652297"
      ]
     },
     "execution_count": 85,
     "metadata": {},
     "output_type": "execute_result"
    }
   ],
   "source": [
    "fares = titanic_df['Fare']\n",
    "median_z = (fares.median() - fares.mean()) / fares.std()\n",
    "median_z\n",
    "#the range is between 0 and 1. Since z-score is negative, the median is below the mean"
   ]
  },
  {
   "cell_type": "markdown",
   "metadata": {},
   "source": [
    "**How much more expensive was the 90th percentile ticket than the 5th percentile ticket? Are they the same class?**"
   ]
  },
  {
   "cell_type": "code",
   "execution_count": 75,
   "metadata": {},
   "outputs": [
    {
     "data": {
      "text/plain": [
       "70.7333"
      ]
     },
     "execution_count": 75,
     "metadata": {},
     "output_type": "execute_result"
    }
   ],
   "source": [
    "fares.quantile(0.9) - fares.quantile(0.05)"
   ]
  },
  {
   "cell_type": "code",
   "execution_count": 76,
   "metadata": {},
   "outputs": [
    {
     "name": "stdout",
     "output_type": "stream",
     "text": [
      "Ticket class of 90th percentile:  1\n",
      "Ticket class of 5th percentile:  3\n"
     ]
    }
   ],
   "source": [
    "sort_fare = titanic_df.sort_values(['Fare'])\n",
    "\n",
    "def perc_ticket(percentile):\n",
    "    index = len(sort_fare) * percentile // 100\n",
    "    return sort_fare.iloc[index]\n",
    "\n",
    "assert fares.quantile(0.9) == perc_ticket(90)['Fare']\n",
    "\n",
    "print('Ticket class of 90th percentile: ', perc_ticket(90)['Pclass'])\n",
    "print('Ticket class of 5th percentile: ', perc_ticket(5)['Pclass'])"
   ]
  },
  {
   "cell_type": "markdown",
   "metadata": {},
   "source": [
    "**The highest average ticket price was paid by passengers from which port? Null ports don’t count.**"
   ]
  },
  {
   "cell_type": "code",
   "execution_count": 88,
   "metadata": {},
   "outputs": [
    {
     "data": {
      "text/html": [
       "<div>\n",
       "<style>\n",
       "    .dataframe thead tr:only-child th {\n",
       "        text-align: right;\n",
       "    }\n",
       "\n",
       "    .dataframe thead th {\n",
       "        text-align: left;\n",
       "    }\n",
       "\n",
       "    .dataframe tbody tr th {\n",
       "        vertical-align: top;\n",
       "    }\n",
       "</style>\n",
       "<table border=\"1\" class=\"dataframe\">\n",
       "  <thead>\n",
       "    <tr style=\"text-align: right;\">\n",
       "      <th>Embarked</th>\n",
       "      <th>C</th>\n",
       "      <th>Q</th>\n",
       "      <th>S</th>\n",
       "    </tr>\n",
       "  </thead>\n",
       "  <tbody>\n",
       "    <tr>\n",
       "      <th>Fare</th>\n",
       "      <td>59.954144</td>\n",
       "      <td>13.27603</td>\n",
       "      <td>27.079812</td>\n",
       "    </tr>\n",
       "  </tbody>\n",
       "</table>\n",
       "</div>"
      ],
      "text/plain": [
       "Embarked          C         Q          S\n",
       "Fare      59.954144  13.27603  27.079812"
      ]
     },
     "execution_count": 88,
     "metadata": {},
     "output_type": "execute_result"
    }
   ],
   "source": [
    "fares_port = pd.pivot_table(titanic_df, columns='Embarked', values='Fare')\n",
    "#a pivot table creates a Series\n",
    "fares_port"
   ]
  },
  {
   "cell_type": "code",
   "execution_count": 94,
   "metadata": {},
   "outputs": [
    {
     "ename": "TypeError",
     "evalue": "'Series' objects are mutable, thus they cannot be hashed",
     "output_type": "error",
     "traceback": [
      "\u001b[0;31m---------------------------------------------------------------------------\u001b[0m",
      "\u001b[0;31mTypeError\u001b[0m                                 Traceback (most recent call last)",
      "\u001b[0;32m<ipython-input-94-3dfd17e76ea0>\u001b[0m in \u001b[0;36m<module>\u001b[0;34m()\u001b[0m\n\u001b[1;32m      1\u001b[0m \u001b[0mfares_port\u001b[0m\u001b[0;34m.\u001b[0m\u001b[0mindex\u001b[0m \u001b[0;34m=\u001b[0m \u001b[0mpd\u001b[0m\u001b[0;34m.\u001b[0m\u001b[0mSeries\u001b[0m\u001b[0;34m(\u001b[0m\u001b[0mfares_port\u001b[0m\u001b[0;34m.\u001b[0m\u001b[0mindex\u001b[0m\u001b[0;34m)\u001b[0m\u001b[0;34m.\u001b[0m\u001b[0mmap\u001b[0m\u001b[0;34m(\u001b[0m\u001b[0mports\u001b[0m\u001b[0;34m)\u001b[0m\u001b[0;34m\u001b[0m\u001b[0m\n\u001b[0;32m----> 2\u001b[0;31m \u001b[0mports\u001b[0m\u001b[0;34m[\u001b[0m\u001b[0mfares_port\u001b[0m\u001b[0;34m.\u001b[0m\u001b[0midxmax\u001b[0m\u001b[0;34m(\u001b[0m\u001b[0;34m)\u001b[0m\u001b[0;34m]\u001b[0m\u001b[0;34m\u001b[0m\u001b[0m\n\u001b[0m",
      "\u001b[0;32m/home/nick/anaconda3/lib/python3.6/site-packages/pandas/core/generic.py\u001b[0m in \u001b[0;36m__hash__\u001b[0;34m(self)\u001b[0m\n\u001b[1;32m    875\u001b[0m     \u001b[0;32mdef\u001b[0m \u001b[0m__hash__\u001b[0m\u001b[0;34m(\u001b[0m\u001b[0mself\u001b[0m\u001b[0;34m)\u001b[0m\u001b[0;34m:\u001b[0m\u001b[0;34m\u001b[0m\u001b[0m\n\u001b[1;32m    876\u001b[0m         raise TypeError('{0!r} objects are mutable, thus they cannot be'\n\u001b[0;32m--> 877\u001b[0;31m                         ' hashed'.format(self.__class__.__name__))\n\u001b[0m\u001b[1;32m    878\u001b[0m \u001b[0;34m\u001b[0m\u001b[0m\n\u001b[1;32m    879\u001b[0m     \u001b[0;32mdef\u001b[0m \u001b[0m__iter__\u001b[0m\u001b[0;34m(\u001b[0m\u001b[0mself\u001b[0m\u001b[0;34m)\u001b[0m\u001b[0;34m:\u001b[0m\u001b[0;34m\u001b[0m\u001b[0m\n",
      "\u001b[0;31mTypeError\u001b[0m: 'Series' objects are mutable, thus they cannot be hashed"
     ]
    }
   ],
   "source": [
    "fares_port.index = pd.Series(fares_port.index).map(ports)\n",
    "ports[fares_port.idxmax()]\n"
   ]
  },
  {
   "cell_type": "markdown",
   "metadata": {},
   "source": [
    "**What is the most common passenger class for each port?**"
   ]
  },
  {
   "cell_type": "code",
   "execution_count": 91,
   "metadata": {},
   "outputs": [
    {
     "data": {
      "text/html": [
       "<div>\n",
       "<style>\n",
       "    .dataframe thead tr:only-child th {\n",
       "        text-align: right;\n",
       "    }\n",
       "\n",
       "    .dataframe thead th {\n",
       "        text-align: left;\n",
       "    }\n",
       "\n",
       "    .dataframe tbody tr th {\n",
       "        vertical-align: top;\n",
       "    }\n",
       "</style>\n",
       "<table border=\"1\" class=\"dataframe\">\n",
       "  <thead>\n",
       "    <tr style=\"text-align: right;\">\n",
       "      <th>Embarked</th>\n",
       "      <th>C</th>\n",
       "      <th>Q</th>\n",
       "      <th>S</th>\n",
       "    </tr>\n",
       "  </thead>\n",
       "  <tbody>\n",
       "    <tr>\n",
       "      <th>NaN</th>\n",
       "      <td>([1], [85])</td>\n",
       "      <td>([3], [72])</td>\n",
       "      <td>([3], [353])</td>\n",
       "    </tr>\n",
       "  </tbody>\n",
       "</table>\n",
       "</div>"
      ],
      "text/plain": [
       "Embarked            C            Q             S\n",
       "NaN       ([1], [85])  ([3], [72])  ([3], [353])"
      ]
     },
     "execution_count": 91,
     "metadata": {},
     "output_type": "execute_result"
    }
   ],
   "source": [
    "import scipy.stats as stats\n",
    "\n",
    "class_mode_port = pd.pivot_table(titanic_df, columns='Embarked', values='Pclass', aggfunc=stats.mode)\n",
    "class_mode_port.index = pd.Series(class_mode_port.index).map(ports)\n",
    "class_mode_port"
   ]
  },
  {
   "cell_type": "markdown",
   "metadata": {},
   "source": [
    "**What fraction of surviving 1st-class males paid lower than double the overall median ticket price?**"
   ]
  },
  {
   "cell_type": "code",
   "execution_count": 102,
   "metadata": {},
   "outputs": [
    {
     "data": {
      "text/plain": [
       "0.24444444444444444"
      ]
     },
     "execution_count": 102,
     "metadata": {},
     "output_type": "execute_result"
    }
   ],
   "source": [
    "median_fare = titanic_df['Fare'].median()\n",
    "\n",
    "#create a new data frame from the previously created predicates\n",
    "surv_1st_male = titanic_df[(pred_survived) & (pred_1stclass) & (pred_male)]\n",
    "\n",
    "#create a data frame that just shows 1st class males with a fare less than twice the median fare\n",
    "paid_lower = surv_1st_male[surv_1st_male['Fare'] < median_fare * 2]\n",
    "\n",
    "#divide number of rows (i.e. count) of 1st class survived males that paid less than twice median fare by total 1st \n",
    "#class survived males\n",
    "len(paid_lower) / len(surv_1st_male)\n"
   ]
  },
  {
   "cell_type": "markdown",
   "metadata": {},
   "source": [
    "**How much older/younger was the average surviving passenger with family members than the average non-surviving passenger without them?**"
   ]
  },
  {
   "cell_type": "code",
   "execution_count": 116,
   "metadata": {},
   "outputs": [
    {
     "name": "stderr",
     "output_type": "stream",
     "text": [
      "/home/nick/anaconda3/lib/python3.6/site-packages/ipykernel_launcher.py:8: UserWarning: Boolean Series key will be reindexed to match DataFrame index.\n",
      "  \n"
     ]
    },
    {
     "data": {
      "text/plain": [
       "-6.888171076642337"
      ]
     },
     "execution_count": 116,
     "metadata": {},
     "output_type": "execute_result"
    }
   ],
   "source": [
    "#titanic_df.head()\n",
    "#create new predicate (true/false column) that shows passengers with family members\n",
    "\n",
    "pred_family = (titanic_df['SibSp'] > 0) | (titanic_df['Parch'] > 0)\n",
    "\n",
    "\n",
    "#create data frame of survivors with family members using previously created data frame (surv) which shows only survivors\n",
    "surv_family = surv[pred_family]\n",
    "\n",
    "#calculate average age from previously created data frame\n",
    "sur_fam_avg_age = surv_family['Age'].mean()\n",
    "\n",
    "#create data frame of non-survivors without family\n",
    "nonsurv_nofam = titanic_df[~(pred_family) & ~(pred_survived)]\n",
    "\n",
    "nonsurv_nofam_avg_age = nonsurv_nofam['Age'].mean()\n",
    "\n",
    "sur_fam_avg_age - nonsurv_nofam_avg_age\n",
    "\n",
    "#surv = titanic_df[pred_survived]\n",
    "#nonsurv_1stcl = titanic_df[~(pred_survived) & (pred_1stclass)]  # '~' means 'not'\n",
    "#male_surv_30 = surv[(pred_male) & (surv['Age'] > 30) & (surv['Embarked'] != 'Q')]\n",
    "\n"
   ]
  },
  {
   "cell_type": "markdown",
   "metadata": {},
   "source": [
    "**Display the relationship (i.e. make a plot) between survival rate and the quantile of the ticket price for 20 integer quantiles.**\n",
    "- To be clearer, what I want is for you to specify 20 quantiles, and for each of those quantiles divide the number of survivors in that quantile by the total number of people in that quantile. That’ll give you the survival rate in that quantile.\n",
    "- Then plot a line of the survival rate against the ticket fare quantiles.\n",
    "- Make sure you label your axes."
   ]
  },
  {
   "cell_type": "code",
   "execution_count": 126,
   "metadata": {},
   "outputs": [
    {
     "name": "stderr",
     "output_type": "stream",
     "text": [
      "/home/nick/anaconda3/lib/python3.6/site-packages/ipykernel_launcher.py:24: UserWarning: Boolean Series key will be reindexed to match DataFrame index.\n"
     ]
    },
    {
     "data": {
      "text/plain": [
       "<matplotlib.text.Text at 0x7f7506629b00>"
      ]
     },
     "execution_count": 126,
     "metadata": {},
     "output_type": "execute_result"
    },
    {
     "data": {
      "image/png": "[encoded data removed]",
      "text/plain": [
       "<matplotlib.figure.Figure at 0x7f7507195278>"
      ]
     },
     "metadata": {},
     "output_type": "display_data"
    }
   ],
   "source": [
    "%matplotlib inline\n",
    "import math\n",
    "\n",
    "#count number of total passengers using sort_fares data frame previously created\n",
    "total_passengers = len(sort_fare)\n",
    "#print(total_passengers)\n",
    "#quantiles to be used\n",
    "quantiles = 20\n",
    "\n",
    "#divide quantiles to be used by total passengers (use math.ceil to roundup) so you know how many passengers\n",
    "# belong in each quantile\n",
    "pass_per_quant = math.ceil(total_passengers / quantiles)\n",
    "\n",
    "#create empty series\n",
    "surv_rate_quant = pd.Series()\n",
    "\n",
    "for i in range(0, total_passengers, pass_per_quant):\n",
    "    #end = i+pass_per_quant-1 if i+pass_per_quant < total_passengers else total_passengers-1\n",
    "    if i+pass_per_quant < total_passengers:\n",
    "        end = i+pass_per_quant-1\n",
    "    else:\n",
    "        end = total_passengers-1\n",
    "    quant = sort_fare.iloc[i:end]\n",
    "    surv_rate = len(quant[pred_survived]) / len(quant)\n",
    "    label = '{:2f} : {:.2f}'.format(sort_fare.iloc[i]['Fare'],\n",
    "                                    sort_fare.iloc[end]['Fare'])\n",
    "    surv_rate_quant[label] = surv_rate\n",
    "\n",
    "ax = surv_rate_quant.plot(figsize=(17,5), xticks=range(0,20), rot=55)   \n",
    "ax.set_xlabel('Ticket Fare Quantiles')\n",
    "ax.set_ylabel('Survival Rate')"
   ]
  },
  {
   "cell_type": "markdown",
   "metadata": {},
   "source": [
    "**For each of the following characteristics, find the median in the data:**\n",
    "- Age\n",
    "- Ticket price\n",
    "- Siblings/spouses\n",
    "- Parents/children"
   ]
  },
  {
   "cell_type": "code",
   "execution_count": 129,
   "metadata": {},
   "outputs": [
    {
     "name": "stdout",
     "output_type": "stream",
     "text": [
      "Median Age:  28.0 \n",
      " Median Ticket Price:  14.4542 \n",
      " Median Siblings/Spouses:  0.0 \n",
      " Median Parents/children:  0.0\n"
     ]
    },
    {
     "data": {
      "text/plain": [
       "Age                 28.0000\n",
       "Ticket Price        14.4542\n",
       "Siblings/spouses     0.0000\n",
       "Parents/Children     0.0000\n",
       "dtype: float64"
      ]
     },
     "execution_count": 129,
     "metadata": {},
     "output_type": "execute_result"
    }
   ],
   "source": [
    "median_age = titanic_df['Age'].median()\n",
    "median_fare = titanic_df['Fare'].median()\n",
    "median_sibsp = titanic_df['SibSp'].median()\n",
    "median_parch = titanic_df['Parch'].median()\n",
    "\n",
    "print('Median Age: ', median_age, '\\n',\n",
    "      'Median Ticket Price: ', median_fare, '\\n',\n",
    "      'Median Siblings/Spouses: ', median_sibsp, '\\n',\n",
    "      'Median Parents/children: ', median_parch)\n",
    "\n",
    "#create a series\n",
    "medians = pd.Series()\n",
    "medians['Age'] = titanic_df['Age'].median()\n",
    "medians['Ticket Price'] = titanic_df['Fare'].median()\n",
    "medians['Siblings/spouses'] = titanic_df['SibSp'].median()\n",
    "medians['Parents/Children'] = titanic_df['Parch'].median()\n",
    "medians\n"
   ]
  },
  {
   "cell_type": "markdown",
   "metadata": {},
   "source": [
    "**If you were to use these medians to draw numerical boundaries separating survivors from non-survivors, which of these characteristics would be the best choice and why?**"
   ]
  },
  {
   "cell_type": "code",
   "execution_count": 134,
   "metadata": {},
   "outputs": [
    {
     "data": {
      "text/html": [
       "<div>\n",
       "<style>\n",
       "    .dataframe thead tr:only-child th {\n",
       "        text-align: right;\n",
       "    }\n",
       "\n",
       "    .dataframe thead th {\n",
       "        text-align: left;\n",
       "    }\n",
       "\n",
       "    .dataframe tbody tr th {\n",
       "        vertical-align: top;\n",
       "    }\n",
       "</style>\n",
       "<table border=\"1\" class=\"dataframe\">\n",
       "  <thead>\n",
       "    <tr style=\"text-align: right;\">\n",
       "      <th></th>\n",
       "      <th>Survivors below/at median</th>\n",
       "      <th>Survivors above median</th>\n",
       "      <th>Survivors Above Median - Survivors Below/At Median</th>\n",
       "    </tr>\n",
       "  </thead>\n",
       "  <tbody>\n",
       "    <tr>\n",
       "      <th>Age</th>\n",
       "      <td>0.408840</td>\n",
       "      <td>0.403409</td>\n",
       "      <td>-0.005431</td>\n",
       "    </tr>\n",
       "    <tr>\n",
       "      <th>Ticket Price</th>\n",
       "      <td>0.250559</td>\n",
       "      <td>0.518018</td>\n",
       "      <td>0.267459</td>\n",
       "    </tr>\n",
       "    <tr>\n",
       "      <th>Siblings/Spouses</th>\n",
       "      <td>NaN</td>\n",
       "      <td>NaN</td>\n",
       "      <td>NaN</td>\n",
       "    </tr>\n",
       "    <tr>\n",
       "      <th>Parents/children</th>\n",
       "      <td>NaN</td>\n",
       "      <td>0.511737</td>\n",
       "      <td>NaN</td>\n",
       "    </tr>\n",
       "  </tbody>\n",
       "</table>\n",
       "</div>"
      ],
      "text/plain": [
       "                  Survivors below/at median  Survivors above median  \\\n",
       "Age                                0.408840                0.403409   \n",
       "Ticket Price                       0.250559                0.518018   \n",
       "Siblings/Spouses                        NaN                     NaN   \n",
       "Parents/children                        NaN                0.511737   \n",
       "\n",
       "                  Survivors Above Median - Survivors Below/At Median  \n",
       "Age                                                       -0.005431   \n",
       "Ticket Price                                               0.267459   \n",
       "Siblings/Spouses                                                NaN   \n",
       "Parents/children                                                NaN   "
      ]
     },
     "execution_count": 134,
     "metadata": {},
     "output_type": "execute_result"
    }
   ],
   "source": [
    "#create 2 series, one shows survival rate below/at median, one that shows survival rate above median\n",
    "below_at_median = pd.Series(name='Survivors below/at median')\n",
    "above_median = pd.Series(name='Survivors above median')\n",
    "\n",
    "#create function that calculates survival ratio \n",
    "def surv_ratio(predicate):\n",
    "    series = titanic_df[predicate]\n",
    "    return len(series[series['Survived'] == True]) / len(series)\n",
    "\n",
    "#fill in the previously created empty series with the appropriate data using survival ratio function \n",
    "below_at_median['Age'] = surv_ratio(titanic_df['Age'] <= medians['Age'])\n",
    "below_at_median['Ticket Price'] = surv_ratio(titanic_df['Fare'] <= medians['Ticket Price'])\n",
    "below_at_median['Siblings/spouses'] = surv_ratio(titanic_df['SibSp'] == medians['Siblings/spouses'])\n",
    "below_at_median['Parents/Children'] = surv_ratio(titanic_df['Parch'] == medians['Parents/Children'])\n",
    "\n",
    "above_median['Age'] = surv_ratio(titanic_df['Age'] > medians['Age'])\n",
    "above_median['Ticket Price'] = surv_ratio(titanic_df['Fare'] > medians['Ticket Price'])\n",
    "above_median['Siblings/spouses'] = surv_ratio(titanic_df['SibSp'] > medians['Siblings/spouses'])\n",
    "above_median['Parents/children'] = surv_ratio(titanic_df['Parch'] > medians['Parents/Children'])\n",
    "\n",
    "survival_median = pd.DataFrame([below_at_median, above_median],\n",
    "                              columns=['Age', 'Ticket Price', 'Siblings/Spouses', 'Parents/children']).transpose()\n",
    "\n",
    "survival_median['Survivors Above Median - Survivors Below/At Median'] = above_median - below_at_median\n",
    "survival_median\n",
    "\n",
    "#passengers with ticket prices above the median have their odds of survival increased by 26 percentage points\n",
    "# when compared to passengers who have ticket prices below the median. This is the best choice to draw a \n",
    "# numerical boundary between survivors and non-survivors"
   ]
  },
  {
   "cell_type": "markdown",
   "metadata": {},
   "source": [
    "**Plot the distribution of passenger ages. Choose visually-meaningful bin sizes and label your axes.**"
   ]
  },
  {
   "cell_type": "code",
   "execution_count": 135,
   "metadata": {},
   "outputs": [
    {
     "data": {
      "text/plain": [
       "<matplotlib.axes._subplots.AxesSubplot at 0x7f750608e208>"
      ]
     },
     "execution_count": 135,
     "metadata": {},
     "output_type": "execute_result"
    },
    {
     "data": {
      "image/png": "[encoded data removed]",
      "text/plain": [
       "<matplotlib.figure.Figure at 0x7f750608e198>"
      ]
     },
     "metadata": {},
     "output_type": "display_data"
    }
   ],
   "source": [
    "ax = titanic_df['Age'].hist(figsize=(9, 6), bins=8)\n",
    "ax.set_xlabel('Age')\n",
    "ax.set_ylabel('Number of passengers')\n",
    "\n",
    "ax"
   ]
  },
  {
   "cell_type": "markdown",
   "metadata": {},
   "source": [
    "**Find the probability that:**\n",
    "- A passenger survived\n",
    "- A passenger was male\n",
    "- A passenger was female and had at least one sibling or spouse on board\n",
    "- A survivor was from Cherbourg\n",
    "- A passenger was less than 10 years old\n",
    "- A passenger was between 25 and 40 years old\n",
    "- A passenger was either younger than 20 years old or older than 50"
   ]
  },
  {
   "cell_type": "code",
   "execution_count": 138,
   "metadata": {},
   "outputs": [
    {
     "data": {
      "text/plain": [
       "Survived                                      0.383838\n",
       "Male                                          0.647587\n",
       "Female with siblings/spouse                   0.157127\n",
       "Survivor from Cherbourg                       0.104377\n",
       "Passenger Age < 10                            0.069585\n",
       "Passenger Age Between 25 & 40                 0.280584\n",
       "Passenger Younger than 20 or older than 50    0.255892\n",
       "dtype: float64"
      ]
     },
     "execution_count": 138,
     "metadata": {},
     "output_type": "execute_result"
    }
   ],
   "source": [
    "#create function that calculates probability of an event based on a predicate, i.e. take total true from \n",
    "# predicate and divide by total passengers\n",
    "def calc_prob(predicate):\n",
    "    return len(titanic_df[predicate]) / len(titanic_df)\n",
    "\n",
    "#create empty series and add the various predicates to that series\n",
    "probs = pd.Series()\n",
    "probs['Survived'] = calc_prob(pred_survived)\n",
    "probs['Male'] = calc_prob(pred_male)\n",
    "probs['Female with siblings/spouse'] = calc_prob(~(pred_male) & (titanic_df['SibSp'] > 0))\n",
    "probs['Survivor from Cherbourg'] = calc_prob(pred_survived & (titanic_df['Embarked'] == 'C'))\n",
    "probs['Passenger Age < 10'] = calc_prob(titanic_df['Age'] < 10)\n",
    "probs['Passenger Age Between 25 & 40'] = calc_prob((titanic_df['Age'] < 40) & (titanic_df['Age'] > 25))\n",
    "probs['Passenger Younger than 20 or older than 50'] = calc_prob((titanic_df['Age'] < 20) | (titanic_df['Age'] > 50))\n",
    "probs"
   ]
  },
  {
   "cell_type": "markdown",
   "metadata": {},
   "source": [
    "**Knowing nothing else about the passengers aside from the survival rate of the population (see question above), if I choose 100 passengers at random from the passenger list, what’s the probability that exactly 42 passengers survive?**"
   ]
  },
  {
   "cell_type": "code",
   "execution_count": 140,
   "metadata": {},
   "outputs": [
    {
     "data": {
      "text/plain": [
       "0.061330411815167886"
      ]
     },
     "execution_count": 140,
     "metadata": {},
     "output_type": "execute_result"
    }
   ],
   "source": [
    "#use binomial distribution which is designed to model number of successes in a sample given the probablity \n",
    "#of successes in a population\n",
    "\n",
    "stats.binom.pmf(k=42, n=100, p=probs['Survived'])"
   ]
  },
  {
   "cell_type": "markdown",
   "metadata": {},
   "source": [
    "**What’s the probability that at least 42 of those 100 passengers survive?**"
   ]
  },
  {
   "cell_type": "code",
   "execution_count": 144,
   "metadata": {},
   "outputs": [
    {
     "data": {
      "text/plain": [
       "0.25940724207261701"
      ]
     },
     "execution_count": 144,
     "metadata": {},
     "output_type": "execute_result"
    }
   ],
   "source": [
    "#for AT LEAST, use cumulative distribution function\n",
    "p_41orless = stats.binom.cdf(k=41, n=100, p=probs['Survived'])\n",
    "p_atleast42 = 1 - p_41orless\n",
    "p_atleast42"
   ]
  },
  {
   "cell_type": "markdown",
   "metadata": {},
   "source": [
    "**Take random samples of 100 passengers and find out how many you need before the fraction of those samples where at least 42 passengers survive matches the probability you calculated previously (within Δp≈0.05).**\n",
    "\n",
    "Answers will vary based on chosen seeds. What would happen if you drew every sample with the same seed?\n",
    "\n",
    "Plot the survival fraction vs the number of random samples."
   ]
  },
  {
   "cell_type": "code",
   "execution_count": 147,
   "metadata": {},
   "outputs": [
    {
     "name": "stdout",
     "output_type": "stream",
     "text": [
      "9 samples were needed to get a fraction of 0.2222222222222222.\n"
     ]
    },
    {
     "data": {
      "text/html": [
       "<div>\n",
       "<style>\n",
       "    .dataframe thead tr:only-child th {\n",
       "        text-align: right;\n",
       "    }\n",
       "\n",
       "    .dataframe thead th {\n",
       "        text-align: left;\n",
       "    }\n",
       "\n",
       "    .dataframe tbody tr th {\n",
       "        vertical-align: top;\n",
       "    }\n",
       "</style>\n",
       "<table border=\"1\" class=\"dataframe\">\n",
       "  <thead>\n",
       "    <tr style=\"text-align: right;\">\n",
       "      <th></th>\n",
       "      <th>n_survivors</th>\n",
       "      <th>at_least42</th>\n",
       "      <th>cum_fraction</th>\n",
       "    </tr>\n",
       "    <tr>\n",
       "      <th>samples_number</th>\n",
       "      <th></th>\n",
       "      <th></th>\n",
       "      <th></th>\n",
       "    </tr>\n",
       "  </thead>\n",
       "  <tbody>\n",
       "    <tr>\n",
       "      <th>1</th>\n",
       "      <td>35</td>\n",
       "      <td>False</td>\n",
       "      <td>0</td>\n",
       "    </tr>\n",
       "    <tr>\n",
       "      <th>2</th>\n",
       "      <td>33</td>\n",
       "      <td>False</td>\n",
       "      <td>0</td>\n",
       "    </tr>\n",
       "    <tr>\n",
       "      <th>3</th>\n",
       "      <td>40</td>\n",
       "      <td>False</td>\n",
       "      <td>0</td>\n",
       "    </tr>\n",
       "    <tr>\n",
       "      <th>4</th>\n",
       "      <td>36</td>\n",
       "      <td>False</td>\n",
       "      <td>0</td>\n",
       "    </tr>\n",
       "    <tr>\n",
       "      <th>5</th>\n",
       "      <td>42</td>\n",
       "      <td>True</td>\n",
       "      <td>0.2</td>\n",
       "    </tr>\n",
       "    <tr>\n",
       "      <th>6</th>\n",
       "      <td>40</td>\n",
       "      <td>False</td>\n",
       "      <td>0.166667</td>\n",
       "    </tr>\n",
       "    <tr>\n",
       "      <th>7</th>\n",
       "      <td>37</td>\n",
       "      <td>False</td>\n",
       "      <td>0.142857</td>\n",
       "    </tr>\n",
       "    <tr>\n",
       "      <th>8</th>\n",
       "      <td>37</td>\n",
       "      <td>False</td>\n",
       "      <td>0.125</td>\n",
       "    </tr>\n",
       "    <tr>\n",
       "      <th>9</th>\n",
       "      <td>43</td>\n",
       "      <td>True</td>\n",
       "      <td>0.222222</td>\n",
       "    </tr>\n",
       "  </tbody>\n",
       "</table>\n",
       "</div>"
      ],
      "text/plain": [
       "               n_survivors at_least42 cum_fraction\n",
       "samples_number                                    \n",
       "1                       35      False            0\n",
       "2                       33      False            0\n",
       "3                       40      False            0\n",
       "4                       36      False            0\n",
       "5                       42       True          0.2\n",
       "6                       40      False     0.166667\n",
       "7                       37      False     0.142857\n",
       "8                       37      False        0.125\n",
       "9                       43       True     0.222222"
      ]
     },
     "execution_count": 147,
     "metadata": {},
     "output_type": "execute_result"
    }
   ],
   "source": [
    "#store pertinent data in data frame\n",
    "samples = pd.DataFrame(index=['n_survivors', 'at_least42', 'cum_fraction'])\n",
    "cum_fraction = 0 \n",
    "\n",
    "seed = 7\n",
    "_iter = 1\n",
    "while abs(cum_fraction - p_atleast42) >= 0.05:\n",
    "    sample = titanic_df.sample(n=100, random_state=seed)\n",
    "    n_survivors = sample['Survived'].sum()\n",
    "    at_least42 = n_survivors >= 42\n",
    "    n_prev_successes = samples.transpose()['at_least42'].sum()\n",
    "    cum_fraction = (at_least42 + n_prev_successes) / (1 + len(samples.columns))\n",
    "    samples[_iter] = [n_survivors, at_least42, cum_fraction]\n",
    "    _iter = _iter + 1\n",
    "    seed = seed + 7\n",
    "\n",
    "print('{} samples were needed to get a fraction of {}.'.format(_iter-1, cum_fraction))\n",
    "\n",
    "samples = samples.transpose()\n",
    "samples.index.names = ['samples_number']\n",
    "samples\n"
   ]
  },
  {
   "cell_type": "markdown",
   "metadata": {},
   "source": [
    "**Is there a statistically significant difference between:**\n",
    "- The ages of male and female survivors?\n",
    "- The fares paid by passengers from Queenstown and the passengers from Cherbourg?\n",
    "\n",
    "**Use a 95% confidence level.**"
   ]
  },
  {
   "cell_type": "code",
   "execution_count": 148,
   "metadata": {},
   "outputs": [
    {
     "data": {
      "image/png": "[encoded data removed]",
      "text/plain": [
       "<matplotlib.figure.Figure at 0x7f75068e9ef0>"
      ]
     },
     "metadata": {},
     "output_type": "display_data"
    }
   ],
   "source": [
    "ax = samples.plot(y='cum_fraction', figsize=(18, 6))"
   ]
  },
  {
   "cell_type": "code",
   "execution_count": 149,
   "metadata": {},
   "outputs": [
    {
     "name": "stderr",
     "output_type": "stream",
     "text": [
      "/home/nick/anaconda3/lib/python3.6/site-packages/ipykernel_launcher.py:2: UserWarning: Boolean Series key will be reindexed to match DataFrame index.\n",
      "  \n",
      "/home/nick/anaconda3/lib/python3.6/site-packages/ipykernel_launcher.py:3: UserWarning: Boolean Series key will be reindexed to match DataFrame index.\n",
      "  This is separate from the ipykernel package so we can avoid doing imports until\n"
     ]
    },
    {
     "data": {
      "text/plain": [
       "Ttest_indResult(statistic=-0.79089662277024664, pvalue=0.43018823932007377)"
      ]
     },
     "execution_count": 149,
     "metadata": {},
     "output_type": "execute_result"
    }
   ],
   "source": [
    "surv_age_not_null = surv.dropna(subset=['Age'])\n",
    "surv_male_ages = surv_age_not_null[pred_male]['Age']\n",
    "surv_female_ages = surv_age_not_null[~(pred_male)]['Age']\n",
    "\n",
    "stats.ttest_ind(a=surv_male_ages, b=surv_female_ages, equal_var=False) #2 sided test, assuming var is same "
   ]
  },
  {
   "cell_type": "code",
   "execution_count": null,
   "metadata": {
    "collapsed": true
   },
   "outputs": [],
   "source": [
    "#p value is large so there is not a stat sig different between male and female survivor ages"
   ]
  },
  {
   "cell_type": "code",
   "execution_count": 151,
   "metadata": {},
   "outputs": [
    {
     "data": {
      "text/plain": [
       "Ttest_indResult(statistic=-6.9951971047186809, pvalue=4.5792033919567422e-11)"
      ]
     },
     "execution_count": 151,
     "metadata": {},
     "output_type": "execute_result"
    }
   ],
   "source": [
    "q_fares = titanic_df[titanic_df['Embarked'] == 'Q']['Fare']\n",
    "c_fares = titanic_df[titanic_df['Embarked'] == 'C']['Fare']\n",
    "\n",
    "stats.ttest_ind(a=q_fares, b=c_fares, equal_var=False)\n",
    "#since p value is lower than 5%, we can say that we are 95% confident that the fares paid by these 2 groups are\n",
    "#statistically different"
   ]
  },
  {
   "cell_type": "markdown",
   "metadata": {},
   "source": [
    "**Accompany your p-values with histograms showing the distributions of both compared populations.**"
   ]
  },
  {
   "cell_type": "code",
   "execution_count": 152,
   "metadata": {},
   "outputs": [
    {
     "data": {
      "text/plain": [
       "<matplotlib.text.Text at 0x7f7505ebf6d8>"
      ]
     },
     "execution_count": 152,
     "metadata": {},
     "output_type": "execute_result"
    },
    {
     "data": {
      "image/png": "[encoded data removed]",
      "text/plain": [
       "<matplotlib.figure.Figure at 0x7f7505ea5dd8>"
      ]
     },
     "metadata": {},
     "output_type": "display_data"
    }
   ],
   "source": [
    "bins0_100 = range(0, 100, 10)\n",
    "ax = surv_female_ages.hist(bins=bins0_100, label='female', figsize=(9, 4))\n",
    "ax = surv_male_ages.hist(bins=bins0_100, label='male', ax=ax)\n",
    "ax.legend()\n",
    "ax.set_xlabel('Age (years)')\n",
    "ax.set_ylabel('Number of Passengers')\n"
   ]
  },
  {
   "cell_type": "code",
   "execution_count": 153,
   "metadata": {},
   "outputs": [
    {
     "data": {
      "text/plain": [
       "<matplotlib.text.Text at 0x7f7505ee06d8>"
      ]
     },
     "execution_count": 153,
     "metadata": {},
     "output_type": "execute_result"
    },
    {
     "data": {
      "image/png": "[encoded data removed]",
      "text/plain": [
       "<matplotlib.figure.Figure at 0x7f7505e49d68>"
      ]
     },
     "metadata": {},
     "output_type": "display_data"
    }
   ],
   "source": [
    "bins0_600 = range(0, 600, 50)\n",
    "ax = c_fares.hist(bins=bins0_600, label='Cherbourg', figsize=(12, 5))\n",
    "ax = q_fares.hist(bins=bins0_600, label='Queenstown', ax=ax)\n",
    "ax.legend()\n",
    "ax.set_xlabel('Fares')\n",
    "ax.set_ylabel('Number of Passengers')"
   ]
  },
  {
   "cell_type": "markdown",
   "metadata": {},
   "source": [
    "**Did survivors pay more for their tickets than those that did not? Use a 95% confidence level.**"
   ]
  },
  {
   "cell_type": "code",
   "execution_count": 157,
   "metadata": {},
   "outputs": [
    {
     "name": "stdout",
     "output_type": "stream",
     "text": [
      "26.277520717093292\n",
      "t-stat 6.83909925909\n",
      "one-sided p-value 1.34966617516e-11\n"
     ]
    }
   ],
   "source": [
    "surv_fares = surv['Fare']\n",
    "nonsurv_fares = titanic_df[~(pred_survived)]['Fare']\n",
    "\n",
    "print(surv_fares.mean() - nonsurv_fares.mean())\n",
    "\n",
    "two_sided_ttest = stats.ttest_ind(a=surv_fares, b=nonsurv_fares, equal_var=False)\n",
    "\n",
    "print('t-stat', two_sided_ttest.statistic)\n",
    "print('one-sided p-value', two_sided_ttest.pvalue/2)\n",
    "#result is smaller than 5%, so we can say with a 95% confidence level that survivors did pay more for their tickets \n",
    "# than non-survivors"
   ]
  },
  {
   "cell_type": "markdown",
   "metadata": {},
   "source": [
    "**Did a given first-class passenger have fewer family members on board than a given third-class passenger? Use a 95% confidence level.**"
   ]
  },
  {
   "cell_type": "code",
   "execution_count": 159,
   "metadata": {},
   "outputs": [
    {
     "name": "stdout",
     "output_type": "stream",
     "text": [
      "-0.2349984913630534\n",
      "t-stat =  -2.07990757489\n",
      "one-sided p-value =  0.0189536928743\n"
     ]
    }
   ],
   "source": [
    "first_class = titanic_df[pred_1stclass]\n",
    "third_class = titanic_df[titanic_df['Pclass'] == 3]\n",
    "\n",
    "fam_1stclass = first_class['SibSp'] + first_class['Parch']\n",
    "fam_3rdclass = third_class['SibSp'] + third_class['Parch']\n",
    "\n",
    "print(fam_1stclass.mean() - fam_3rdclass.mean())\n",
    "\n",
    "two_sided_ttest = stats.ttest_ind(a=fam_1stclass, b=fam_3rdclass, equal_var=False)\n",
    "\n",
    "print('t-stat = ', two_sided_ttest.statistic)\n",
    "print('one-sided p-value = ', two_sided_ttest.pvalue/2)\n",
    "\n",
    "#smaller than 5%, we are 95% conf that 1st class passengers had fewer family members than 3rd class passengers"
   ]
  },
  {
   "cell_type": "code",
   "execution_count": null,
   "metadata": {
    "collapsed": true
   },
   "outputs": [],
   "source": []
  }
 ],
 "metadata": {
  "anaconda-cloud": {},
  "kernelspec": {
   "display_name": "Python 3",
   "language": "python",
   "name": "python3"
  },
  "language_info": {
   "codemirror_mode": {
    "name": "ipython",
    "version": 3
   },
   "file_extension": ".py",
   "mimetype": "text/x-python",
   "name": "python",
   "nbconvert_exporter": "python",
   "pygments_lexer": "ipython3",
   "version": "3.6.1"
  }
 },
 "nbformat": 4,
 "nbformat_minor": 1
}
